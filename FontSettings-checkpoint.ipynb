{
 "cells": [
  {
   "cell_type": "markdown",
   "metadata": {},
   "source": [
    "# 1. 필요한 패키지를 가져옵니다."
   ]
  },
  {
   "cell_type": "code",
   "execution_count": 1,
   "metadata": {},
   "outputs": [],
   "source": [
    "%matplotlib inline\n",
    "\n",
    "import matplotlib as mpl\n",
    "import matplotlib.pyplot as plt\n",
    "import matplotlib.font_manager as fm\n",
    "\n",
    "mpl.rcParams['axes.unicode_minus'] = False"
   ]
  },
  {
   "cell_type": "markdown",
   "metadata": {},
   "source": [
    "# 2. 그래프를 그리기 위해 임의의 데이터를 만들어 줍니다."
   ]
  },
  {
   "cell_type": "code",
   "execution_count": 3,
   "metadata": {},
   "outputs": [
    {
     "data": {
      "text/plain": [
       "array([ -64, -140,  -61, -148, -123,  -47,  -63, -127, -114, -106, -105,\n",
       "       -181, -262, -185, -132,  -46,  -92,  -22,  -87,  -30,   54,   74,\n",
       "         54,   17,   58,   41,   11,   41,   -4,   54,   35,  -10,   27,\n",
       "         33,   50,    3,  -77, -171,  -90, -181, -256, -319, -390, -489,\n",
       "       -494, -538, -602, -591, -626, -676], dtype=int32)"
      ]
     },
     "execution_count": 3,
     "metadata": {},
     "output_type": "execute_result"
    }
   ],
   "source": [
    "import numpy as np\n",
    "\n",
    "data = np.random.randint(-100,100, 50).cumsum()\n",
    "data"
   ]
  },
  {
   "cell_type": "markdown",
   "metadata": {},
   "source": [
    "# 3.기본 폰트로 지정되어 있기 때문에 한글이 깨져 나옵니다."
   ]
  },
  {
   "cell_type": "code",
   "execution_count": 5,
   "metadata": {},
   "outputs": [
    {
     "data": {
      "text/plain": [
       "Text(0.5, 0, '시간(분)')"
      ]
     },
     "execution_count": 5,
     "metadata": {},
     "output_type": "execute_result"
    },
    {
     "name": "stderr",
     "output_type": "stream",
     "text": [
      "C:\\ProgramData\\Anaconda3\\envs\\pyth3.7\\lib\\site-packages\\matplotlib\\backends\\backend_agg.py:211: RuntimeWarning: Glyph 48516 missing from current font.\n",
      "  font.set_text(s, 0.0, flags=flags)\n",
      "C:\\ProgramData\\Anaconda3\\envs\\pyth3.7\\lib\\site-packages\\matplotlib\\backends\\backend_agg.py:180: RuntimeWarning: Glyph 48516 missing from current font.\n",
      "  font.set_text(s, 0, flags=flags)\n",
      "C:\\ProgramData\\Anaconda3\\envs\\pyth3.7\\lib\\site-packages\\matplotlib\\backends\\backend_agg.py:211: RuntimeWarning: Glyph 51452 missing from current font.\n",
      "  font.set_text(s, 0.0, flags=flags)\n",
      "C:\\ProgramData\\Anaconda3\\envs\\pyth3.7\\lib\\site-packages\\matplotlib\\backends\\backend_agg.py:211: RuntimeWarning: Glyph 49885 missing from current font.\n",
      "  font.set_text(s, 0.0, flags=flags)\n",
      "C:\\ProgramData\\Anaconda3\\envs\\pyth3.7\\lib\\site-packages\\matplotlib\\backends\\backend_agg.py:180: RuntimeWarning: Glyph 51452 missing from current font.\n",
      "  font.set_text(s, 0, flags=flags)\n",
      "C:\\ProgramData\\Anaconda3\\envs\\pyth3.7\\lib\\site-packages\\matplotlib\\backends\\backend_agg.py:180: RuntimeWarning: Glyph 49885 missing from current font.\n",
      "  font.set_text(s, 0, flags=flags)\n"
     ]
    },
    {
     "data": {
      "image/png": "[encoded data removed]",
      "text/plain": [
       "<Figure size 432x288 with 1 Axes>"
      ]
     },
     "metadata": {
      "needs_background": "light"
     },
     "output_type": "display_data"
    }
   ],
   "source": [
    "plt.plot(range(50), data, 'r')\n",
    "mpl.rcParams['axes.unicode_minus']  =  False\n",
    "plt.title('시간별 가격 추이')\n",
    "plt.ylabel('주식 가격')\n",
    "plt.xlabel('시간(분)')"
   ]
  },
  {
   "cell_type": "markdown",
   "metadata": {},
   "source": [
    "# 4. 폰트를 설정해 주기에 앞서 설치된 matplotlib 의 버전과 위치정보를 가져옵니다. \n",
    "### 가져오더라도 vim을 사용해주어 편집해 주어야 하고 편집이 아니라 설치된 것들을 확인해 주는 작업이기 때문에 의미가 크진 않습니다."
   ]
  },
  {
   "cell_type": "code",
   "execution_count": 7,
   "metadata": {},
   "outputs": [
    {
     "name": "stdout",
     "output_type": "stream",
     "text": [
      "버전 3.1.0\n",
      "설치 위치:  C:\\ProgramData\\Anaconda3\\envs\\pyth3.7\\lib\\site-packages\\matplotlib\\__init__.py\n",
      "설정 위치:  C:\\Users\\709-000\\.matplotlib\n",
      "캐시 위치:  C:\\Users\\709-000\\.matplotlib\n"
     ]
    }
   ],
   "source": [
    "print('버전', mpl.__version__)\n",
    "print('설치 위치: ', mpl.__file__)\n",
    "print('설정 위치: ', mpl.get_configdir())\n",
    "print('캐시 위치: ', mpl.get_cachedir())"
   ]
  },
  {
   "cell_type": "markdown",
   "metadata": {},
   "source": [
    "# 5. matplotlib의 위치정보를 알았으니 터미널을 이용해 해당 위치로 가봅니다."
   ]
  },
  {
   "cell_type": "code",
   "execution_count": 17,
   "metadata": {
    "scrolled": true
   },
   "outputs": [
    {
     "name": "stdout",
     "output_type": "stream",
     "text": [
      "설정파일 위치:  C:\\ProgramData\\Anaconda3\\envs\\pyth3.7\\lib\\site-packages\\matplotlib\\mpl-data\\matplotlibrc\n"
     ]
    }
   ],
   "source": [
    "print('설정파일 위치: ', mpl.matplotlib_fname())"
   ]
  },
  {
   "cell_type": "markdown",
   "metadata": {},
   "source": [
    "# 6.설치된 폰트를 찍어봅니다. "
   ]
  },
  {
   "cell_type": "code",
   "execution_count": 8,
   "metadata": {},
   "outputs": [
    {
     "name": "stdout",
     "output_type": "stream",
     "text": [
      "615\n"
     ]
    }
   ],
   "source": [
    "font_list = fm.findSystemFonts(fontpaths=None,fontext='ttf')\n",
    "\n",
    "print(len(font_list# 6.설치된 폰트를 찍어봅니다. ))"
   ]
  },
  {
   "cell_type": "code",
   "execution_count": 9,
   "metadata": {},
   "outputs": [
    {
     "name": "stdout",
     "output_type": "stream",
     "text": [
      "0\n"
     ]
    },
    {
     "name": "stderr",
     "output_type": "stream",
     "text": [
      "C:\\ProgramData\\Anaconda3\\envs\\pyth3.7\\lib\\site-packages\\ipykernel_launcher.py:1: MatplotlibDeprecationWarning: \n",
      "The OSXInstalledFonts function was deprecated in Matplotlib 3.1 and will be removed in 3.3.\n",
      "  \"\"\"Entry point for launching an IPython kernel.\n"
     ]
    }
   ],
   "source": [
    "font_list_mac = fm.OSXInstalledFonts()\n",
    "\n",
    "#ttf 폰트 전체 갯수\n",
    "print(len(font_list_mac))"
   ]
  },
  {
   "cell_type": "code",
   "execution_count": 10,
   "metadata": {},
   "outputs": [
    {
     "data": {
      "text/plain": [
       "['C:\\\\Windows\\\\Fonts\\\\mriamc.ttf',\n",
       " 'C:\\\\Windows\\\\Fonts\\\\Easop.ttf',\n",
       " 'C:\\\\Windows\\\\Fonts\\\\GILB____.TTF',\n",
       " 'C:\\\\Windows\\\\Fonts\\\\FZSong_Super.TTF',\n",
       " 'C:\\\\Windows\\\\Fonts\\\\YTTE08.TTF',\n",
       " 'C:\\\\Windows\\\\Fonts\\\\PARCHM.TTF',\n",
       " 'C:\\\\Windows\\\\Fonts\\\\upcebi.ttf',\n",
       " 'C:\\\\Windows\\\\Fonts\\\\KhmerUIb.ttf',\n",
       " 'C:\\\\Windows\\\\Fonts\\\\CALISTBI.TTF',\n",
       " 'C:\\\\Windows\\\\Fonts\\\\BASKVILL.TTF']"
      ]
     },
     "execution_count": 10,
     "metadata": {},
     "output_type": "execute_result"
    }
   ],
   "source": [
    "font_list[:10]"
   ]
  },
  {
   "cell_type": "code",
   "execution_count": 11,
   "metadata": {},
   "outputs": [
    {
     "name": "stdout",
     "output_type": "stream",
     "text": [
      "615\n"
     ]
    },
    {
     "data": {
      "text/plain": [
       "['STIXNonUnicode',\n",
       " 'cmmi10',\n",
       " 'STIXSizeOneSym',\n",
       " 'DejaVu Sans',\n",
       " 'DejaVu Serif',\n",
       " 'STIXSizeThreeSym',\n",
       " 'DejaVu Sans Display',\n",
       " 'STIXSizeTwoSym',\n",
       " 'STIXSizeFiveSym',\n",
       " 'STIXSizeFourSym']"
      ]
     },
     "execution_count": 11,
     "metadata": {},
     "output_type": "execute_result"
    }
   ],
   "source": [
    "f = [f.name for f in fm.fontManager.ttflist]\n",
    "print(len(font_list))\n",
    "f[:10]"
   ]
  },
  {
   "cell_type": "code",
   "execution_count": 12,
   "metadata": {},
   "outputs": [
    {
     "data": {
      "text/plain": [
       "['STIXNonUnicode',\n",
       " 'cmmi10',\n",
       " 'STIXSizeOneSym',\n",
       " 'DejaVu Sans',\n",
       " 'DejaVu Serif',\n",
       " 'STIXSizeThreeSym',\n",
       " 'DejaVu Sans Display',\n",
       " 'STIXSizeTwoSym',\n",
       " 'STIXSizeFiveSym',\n",
       " 'STIXSizeFourSym',\n",
       " 'DejaVu Sans Mono',\n",
       " 'DejaVu Serif',\n",
       " 'STIXGeneral',\n",
       " 'DejaVu Sans',\n",
       " 'DejaVu Serif',\n",
       " 'DejaVu Sans Mono',\n",
       " 'STIXNonUnicode',\n",
       " 'STIXNonUnicode',\n",
       " 'cmb10',\n",
       " 'cmtt10',\n",
       " 'DejaVu Serif',\n",
       " 'STIXSizeTwoSym',\n",
       " 'cmss10',\n",
       " 'STIXGeneral',\n",
       " 'DejaVu Sans Mono',\n",
       " 'DejaVu Sans',\n",
       " 'STIXGeneral',\n",
       " 'STIXSizeThreeSym',\n",
       " 'DejaVu Sans Mono',\n",
       " 'STIXSizeOneSym',\n",
       " 'cmex10',\n",
       " 'DejaVu Serif Display',\n",
       " 'cmr10',\n",
       " 'DejaVu Sans',\n",
       " 'STIXGeneral',\n",
       " 'STIXNonUnicode',\n",
       " 'STIXSizeFourSym',\n",
       " 'cmsy10',\n",
       " 'Miriam Fixed',\n",
       " 'MDEasop',\n",
       " 'Gill Sans MT',\n",
       " 'FZSong_Superfont',\n",
       " 'Yj TEUNTEUN Bold',\n",
       " 'Parchment',\n",
       " 'EucrosiaUPC',\n",
       " 'Khmer UI',\n",
       " 'Calisto MT',\n",
       " 'Baskerville Old Face',\n",
       " 'EucrosiaUPC',\n",
       " 'Aharoni',\n",
       " 'Palatino Linotype',\n",
       " 'Courier New',\n",
       " 'Calibri',\n",
       " 'MS Mincho',\n",
       " 'Engravers MT',\n",
       " 'Yj WADAG Medium',\n",
       " 'Cooper Blk BT',\n",
       " 'Calibri',\n",
       " 'Haan Cooljazz M',\n",
       " 'Bookman Old Style',\n",
       " 'FreesiaUPC',\n",
       " 'Symbol',\n",
       " 'Franklin Gothic Heavy',\n",
       " 'Cambria',\n",
       " 'NanumBarunGothic',\n",
       " 'AmeriGarmnd BT',\n",
       " 'Candara',\n",
       " 'Tw Cen MT Condensed Extra Bold',\n",
       " 'NanumSquare',\n",
       " 'NanumSquareRound',\n",
       " 'Cordia New',\n",
       " 'Iskoola Pota',\n",
       " 'HYgprM',\n",
       " 'Felix Titling',\n",
       " 'French Script MT',\n",
       " 'NanumSquareRound',\n",
       " 'Constantia',\n",
       " 'Maiandra GD',\n",
       " 'Rage Italic',\n",
       " 'Consolas',\n",
       " 'HYdnkB',\n",
       " 'Segoe UI',\n",
       " 'Goudy Old Style',\n",
       " 'Garamond',\n",
       " 'Elephant',\n",
       " 'Kartika',\n",
       " 'Colonna MT',\n",
       " 'Courier10 BT',\n",
       " 'Nanum Brush Script',\n",
       " 'Tw Cen MT',\n",
       " 'Kristen ITC',\n",
       " 'Arial',\n",
       " 'Century',\n",
       " 'HYGungSo-Bold',\n",
       " 'Goudy Old Style',\n",
       " 'Ebrima',\n",
       " 'MJemokGothic',\n",
       " 'Segoe Script',\n",
       " 'Segoe UI',\n",
       " 'Calibri',\n",
       " 'Calisto MT',\n",
       " 'Vivaldi',\n",
       " 'MurrayHill Bd BT',\n",
       " 'Lucida Sans Typewriter',\n",
       " 'BroadwayEngraved BT',\n",
       " 'Bookshelf Symbol 7',\n",
       " 'Constantia',\n",
       " 'Rod',\n",
       " 'HYkanB',\n",
       " 'Haansoft Dotum',\n",
       " 'Book Antiqua',\n",
       " 'MoolBoran',\n",
       " 'Angsana New',\n",
       " 'Arial',\n",
       " 'Segoe UI Symbol',\n",
       " 'Franklin Gothic Book',\n",
       " 'Lao UI',\n",
       " 'Arial',\n",
       " 'Bradley Hand ITC',\n",
       " 'Kartika',\n",
       " 'FreesiaUPC',\n",
       " 'Perpetua',\n",
       " 'MS Gothic',\n",
       " 'OCR-A BT',\n",
       " 'Cambria',\n",
       " 'DilleniaUPC',\n",
       " '??????',\n",
       " 'Bodoni MT',\n",
       " 'Arabic Typesetting',\n",
       " 'Californian FB',\n",
       " 'Courier New',\n",
       " 'Simplified Arabic',\n",
       " 'Latha',\n",
       " 'Vrinda',\n",
       " 'Berlin Sans FB Demi',\n",
       " 'Trebuchet MS',\n",
       " 'FangSong',\n",
       " 'Lucida Sans Unicode',\n",
       " 'Bodoni Bk BT',\n",
       " 'Gloucester MT Extra Condensed',\n",
       " 'BrowalliaUPC',\n",
       " 'Microsoft Tai Le',\n",
       " 'Levenim MT',\n",
       " 'Vijaya',\n",
       " 'MGungHeulim',\n",
       " 'NanumBarunpen',\n",
       " 'New Gulim',\n",
       " 'Trebuchet MS',\n",
       " 'Lucida Handwriting',\n",
       " 'Lucida Bright',\n",
       " 'NanumSquareRound',\n",
       " 'Century Gothic',\n",
       " 'LilyUPC',\n",
       " 'HYsupM',\n",
       " 'Eras Demi ITC',\n",
       " 'Rockwell',\n",
       " 'KodchiangUPC',\n",
       " 'Georgia',\n",
       " 'Freehand591 BT',\n",
       " 'MDArt',\n",
       " 'BM HANNA Pro',\n",
       " 'Lucida Fax',\n",
       " 'FuturaBlack BT',\n",
       " 'Lao UI',\n",
       " 'Segoe UI',\n",
       " 'Sylfaen',\n",
       " 'Haan YGodic 250',\n",
       " 'CentSchbook BT',\n",
       " 'CordiaUPC',\n",
       " '????',\n",
       " 'Microsoft New Tai Lue',\n",
       " 'Garamond',\n",
       " 'Tahoma',\n",
       " 'IrisUPC',\n",
       " 'Bodoni MT',\n",
       " 'Footlight MT Light',\n",
       " 'Angsana New',\n",
       " 'MingLiU-ExtB',\n",
       " 'Corbel',\n",
       " 'Bell MT',\n",
       " 'HYnamB',\n",
       " 'Segoe Print',\n",
       " 'Constantia',\n",
       " 'Baskerville BT',\n",
       " 'HYhaeseo',\n",
       " 'Magneto',\n",
       " 'HYnamL',\n",
       " 'Microsoft Tai Le',\n",
       " 'Courier New',\n",
       " 'Arial',\n",
       " 'Century Gothic',\n",
       " 'HYdnkM',\n",
       " 'Rockwell',\n",
       " 'AmeriGarmnd BT',\n",
       " 'Niagara Engraved',\n",
       " 'KodchiangUPC',\n",
       " 'Georgia',\n",
       " 'MSugiHeulim',\n",
       " 'Franklin Gothic Book',\n",
       " 'Georgia',\n",
       " 'NanumBarunGothic',\n",
       " 'Book Antiqua',\n",
       " 'Copperplate Gothic Light',\n",
       " 'Arial Rounded MT Bold',\n",
       " 'Old English Text MT',\n",
       " 'Bodoni MT',\n",
       " 'Sakkal Majalla',\n",
       " 'KodchiangUPC',\n",
       " 'Narkisim',\n",
       " 'Arial',\n",
       " 'Stencil',\n",
       " 'Browallia New',\n",
       " 'HCR Dotum',\n",
       " 'Century Gothic',\n",
       " 'Lucida Sans Typewriter',\n",
       " 'MingLiU',\n",
       " 'Book Antiqua',\n",
       " 'Gulim',\n",
       " 'Cordia New',\n",
       " 'Mangal',\n",
       " 'DilleniaUPC',\n",
       " 'Lucida Bright',\n",
       " 'Haan Baekje M',\n",
       " 'Godo M',\n",
       " 'Rockwell',\n",
       " 'Bodoni MT',\n",
       " 'Lucida Sans',\n",
       " 'NanumMyeongjo',\n",
       " 'David',\n",
       " 'Nanum Pen Script',\n",
       " 'Rockwell Condensed',\n",
       " 'CordiaUPC',\n",
       " 'Haan Sale M',\n",
       " 'Batang',\n",
       " 'AmeriGarmnd BT',\n",
       " 'ParkAvenue BT',\n",
       " '? ??',\n",
       " 'Courier10 BT',\n",
       " 'Goudy Old Style',\n",
       " 'HYtbrB',\n",
       " 'Browallia New',\n",
       " 'Browallia New',\n",
       " 'Franklin Gothic Medium',\n",
       " 'Californian FB',\n",
       " 'Yj BLOCK Medium',\n",
       " 'godoMaum',\n",
       " 'Haan Somang M',\n",
       " 'Malgun Gothic',\n",
       " 'Haan Somang B',\n",
       " 'Vrinda',\n",
       " 'MT Extra',\n",
       " 'Centaur',\n",
       " 'Tunga',\n",
       " 'ahn2006-B',\n",
       " 'Kokila',\n",
       " 'Orator10 BT',\n",
       " '??????',\n",
       " 'Aparajita',\n",
       " 'Haan YHead M',\n",
       " 'Cooper Blk BT',\n",
       " 'Haan Baekje B',\n",
       " 'Haan Cooljazz B',\n",
       " 'Yj GOTGAE Medium',\n",
       " 'CordiaUPC',\n",
       " 'Times New Roman',\n",
       " '??????',\n",
       " 'HYsnrL',\n",
       " 'Constantia',\n",
       " 'HCR Batang Ext',\n",
       " 'Century Schoolbook',\n",
       " 'LilyUPC',\n",
       " 'MGungJeong',\n",
       " 'MBatang',\n",
       " 'HYbdaM',\n",
       " 'Script MT Bold',\n",
       " 'Microsoft New Tai Lue',\n",
       " 'GoudyOlSt BT',\n",
       " '???',\n",
       " 'Utsaah',\n",
       " 'KodchiangUPC',\n",
       " 'Segoe UI',\n",
       " 'Bookman Old Style',\n",
       " 'Perpetua',\n",
       " 'Bodoni MT',\n",
       " 'Cordia New',\n",
       " 'FrankRuehl',\n",
       " 'Shruti',\n",
       " 'Swis721 BT',\n",
       " 'HYPost-Medium',\n",
       " 'Ebrima',\n",
       " 'Raavi',\n",
       " 'Shonar Bangla',\n",
       " 'Angsana New',\n",
       " 'Blackadder ITC',\n",
       " 'Bell MT',\n",
       " 'Chiller',\n",
       " 'Verdana',\n",
       " 'JasmineUPC',\n",
       " 'Lucida Bright',\n",
       " 'Estrangelo Edessa',\n",
       " 'MS Outlook',\n",
       " 'Gill Sans Ultra Bold',\n",
       " 'Eras Bold ITC',\n",
       " 'Haan YGodic 240',\n",
       " 'MSugiJeong',\n",
       " 'LilyUPC',\n",
       " 'Lucida Console',\n",
       " 'Wingdings 3',\n",
       " 'MDGaesung',\n",
       " 'Yj SHANALL Medium ',\n",
       " 'MS Reference Sans Serif',\n",
       " 'Candara',\n",
       " 'Trebuchet MS',\n",
       " '??????',\n",
       " 'Goudy Stout',\n",
       " 'JasmineUPC',\n",
       " 'Castellar',\n",
       " 'Microsoft JhengHei',\n",
       " 'HYShortSamul-Medium',\n",
       " 'Bodoni MT',\n",
       " 'Monotype Corsiva',\n",
       " 'Yj DOOLGI Medium',\n",
       " 'Aparajita',\n",
       " 'Times New Roman',\n",
       " 'Traditional Arabic',\n",
       " 'Candara',\n",
       " 'Consolas',\n",
       " 'Bodoni MT',\n",
       " 'Hobo BT',\n",
       " 'AmeriGarmnd BT',\n",
       " 'Bodoni MT',\n",
       " 'Lucida Sans',\n",
       " 'Simplified Arabic',\n",
       " 'High Tower Text',\n",
       " 'HYgsrB',\n",
       " 'Shruti',\n",
       " 'HYwulM',\n",
       " 'Haan Sollip B',\n",
       " 'CentSchbook BT',\n",
       " 'Mistral',\n",
       " 'Lucida Fax',\n",
       " 'Tw Cen MT',\n",
       " 'Comic Sans MS',\n",
       " 'Franklin Gothic Demi',\n",
       " 'Lucida Sans Typewriter',\n",
       " 'CentSchbook BT',\n",
       " 'HYmjrE',\n",
       " 'CommercialScript BT',\n",
       " 'Corbel',\n",
       " 'KaiTi',\n",
       " 'Tw Cen MT',\n",
       " 'Arial',\n",
       " 'HCR Batang',\n",
       " 'Kalinga',\n",
       " 'Arial',\n",
       " 'Swis721 BT',\n",
       " 'YJ BELLA Medium',\n",
       " 'Meiryo',\n",
       " '????',\n",
       " 'Eras Medium ITC',\n",
       " 'Segoe Print',\n",
       " 'Segoe UI',\n",
       " 'LilyUPC',\n",
       " 'NanumSquare',\n",
       " 'HyhwpEQ',\n",
       " 'Wingdings',\n",
       " 'Tahoma',\n",
       " 'Sakkal Majalla',\n",
       " 'Aparajita',\n",
       " 'Gill Sans MT Condensed',\n",
       " 'DomCasual BT',\n",
       " 'Liberty BT',\n",
       " 'Gill Sans MT',\n",
       " 'Tw Cen MT Condensed',\n",
       " 'Plantagenet Cherokee',\n",
       " 'IrisUPC',\n",
       " 'CentSchbook BT',\n",
       " 'Calibri',\n",
       " 'EucrosiaUPC',\n",
       " 'Algerian',\n",
       " 'Gautami',\n",
       " 'Leelawadee',\n",
       " 'Bodoni Bd BT',\n",
       " 'Segoe UI',\n",
       " 'Yj DWMMOOGJO',\n",
       " '??????',\n",
       " 'Yj NANCHO Medium',\n",
       " 'DokChampa',\n",
       " 'Britannic Bold',\n",
       " 'Gill Sans Ultra Bold Condensed',\n",
       " 'HYGraphic-Medium',\n",
       " 'Franklin Gothic Medium',\n",
       " 'NanumMyeongjo',\n",
       " 'Marlett',\n",
       " 'Harlow Solid Italic',\n",
       " 'IrisUPC',\n",
       " 'Tempus Sans ITC',\n",
       " 'Nyala',\n",
       " 'BrowalliaUPC',\n",
       " 'Angsana New',\n",
       " 'Shonar Bangla',\n",
       " 'HYMyeongJo-Extra',\n",
       " 'Mongolian Baiti',\n",
       " 'Verdana',\n",
       " 'Cooper Black',\n",
       " '??????',\n",
       " 'Gabriola',\n",
       " 'FreesiaUPC',\n",
       " 'Lucida Sans',\n",
       " 'ahn2006-M',\n",
       " 'Elephant',\n",
       " 'Berlin Sans FB',\n",
       " 'Khmer UI',\n",
       " 'Informal Roman',\n",
       " 'Rockwell Extra Bold',\n",
       " 'Franklin Gothic Demi',\n",
       " 'David',\n",
       " '??????',\n",
       " 'AngsanaUPC',\n",
       " 'Kokila',\n",
       " 'Times New Roman',\n",
       " 'ahn2006-L',\n",
       " 'Curlz MT',\n",
       " 'Kokila',\n",
       " 'Browallia New',\n",
       " 'Broadway',\n",
       " 'JasmineUPC',\n",
       " 'Times New Roman',\n",
       " 'Century Schoolbook',\n",
       " 'Viner Hand ITC',\n",
       " 'Utsaah',\n",
       " 'HYwulB',\n",
       " 'Yj BONMOKGAK Medium ',\n",
       " 'Haan Cooljazz L',\n",
       " 'MHunmin',\n",
       " 'Newtext Bk BT',\n",
       " 'HCR Dotum',\n",
       " 'Courier New',\n",
       " 'Eras Light ITC',\n",
       " 'MS Reference Specialty',\n",
       " 'Franklin Gothic Demi Cond',\n",
       " 'NanumGothic',\n",
       " 'NanumGothic',\n",
       " 'Kunstler Script',\n",
       " 'Bookman Old Style',\n",
       " 'HYmprL',\n",
       " 'FreesiaUPC',\n",
       " 'Gill Sans MT Ext Condensed Bold',\n",
       " 'Jokerman',\n",
       " 'Godo B',\n",
       " 'HYGothic-Medium',\n",
       " 'Aparajita',\n",
       " 'Microsoft Uighur',\n",
       " 'Arial',\n",
       " 'NanumGothic',\n",
       " 'Lucida Bright',\n",
       " 'Book Antiqua',\n",
       " 'NanumGothic',\n",
       " 'Calibri',\n",
       " 'Palatino Linotype',\n",
       " 'Vladimir Script',\n",
       " 'Palatino Linotype',\n",
       " 'Impact',\n",
       " 'IrisUPC',\n",
       " 'Poor Richard',\n",
       " 'Haettenschweiler',\n",
       " 'NanumBarunGothic',\n",
       " 'SimSun-ExtB',\n",
       " 'BrowalliaUPC',\n",
       " 'Leelawadee',\n",
       " 'YJ INJANG Medium',\n",
       " 'HYGothic-Extra',\n",
       " 'Bodoni MT',\n",
       " 'HYporM',\n",
       " 'Ravie',\n",
       " 'Bodoni Bk BT',\n",
       " 'Microsoft PhagsPa',\n",
       " 'Bernard MT Condensed',\n",
       " 'Kokila',\n",
       " 'Microsoft Sans Serif',\n",
       " 'Lucida Fax',\n",
       " 'MDSol',\n",
       " 'Pristina',\n",
       " 'HYPost-Light',\n",
       " 'DilleniaUPC',\n",
       " 'CordiaUPC',\n",
       " 'Consolas',\n",
       " 'Juice ITC',\n",
       " 'Microsoft PhagsPa',\n",
       " 'Snap ITC',\n",
       " 'Raavi',\n",
       " 'Pyunji R',\n",
       " 'High Tower Text',\n",
       " 'Playbill',\n",
       " 'Harrington',\n",
       " 'Freestyle Script',\n",
       " 'Franklin Gothic Medium Cond',\n",
       " 'BernhardFashion BT',\n",
       " 'DaunPenh',\n",
       " 'Onyx',\n",
       " 'Tunga',\n",
       " 'NanumMyeongjo',\n",
       " 'Imprint MT Shadow',\n",
       " 'Kalinga',\n",
       " 'Californian FB',\n",
       " 'Webdings',\n",
       " 'Corbel',\n",
       " 'Edwardian Script ITC',\n",
       " 'Perpetua Titling MT',\n",
       " 'AngsanaUPC',\n",
       " 'Agency FB',\n",
       " 'Euphemia',\n",
       " 'Microsoft JhengHei',\n",
       " 'Calisto MT',\n",
       " 'Headline R',\n",
       " 'Bodoni Bd BT',\n",
       " 'MV Boli',\n",
       " 'Magic R',\n",
       " 'Yj BACDOO Bold ',\n",
       " 'SimHei',\n",
       " 'Yj CHMSOOT Bold',\n",
       " 'OCR-B-10 BT',\n",
       " 'Arial',\n",
       " 'Yj GABI',\n",
       " 'HYcysM',\n",
       " 'Lucida Sans',\n",
       " 'Calisto MT',\n",
       " 'Andalus',\n",
       " 'HYsupB',\n",
       " 'Haan Sollip M',\n",
       " 'Malgun Gothic',\n",
       " 'BrowalliaUPC',\n",
       " 'Microsoft YaHei',\n",
       " 'SimSun',\n",
       " 'HYbdaL',\n",
       " '????',\n",
       " 'HCR Dotum Ext',\n",
       " 'HYgtrE',\n",
       " 'Berlin Sans FB',\n",
       " 'Stencil BT',\n",
       " 'Haan YHead L',\n",
       " 'AngsanaUPC',\n",
       " 'Perpetua',\n",
       " 'Cambria',\n",
       " 'NanumBarunGothic',\n",
       " 'Tw Cen MT',\n",
       " 'OCR A Extended',\n",
       " 'MDAlong',\n",
       " 'Haan YHead B',\n",
       " 'Lucida Sans Typewriter',\n",
       " 'Calibri',\n",
       " 'MJemokBatang',\n",
       " 'Utsaah',\n",
       " 'Comic Sans MS',\n",
       " 'Rockwell',\n",
       " 'Bookman Old Style',\n",
       " 'Candara',\n",
       " 'HYkanM',\n",
       " 'Wide Latin',\n",
       " 'HCR Batang',\n",
       " 'Verdana',\n",
       " 'NanumSquare',\n",
       " 'Consolas',\n",
       " 'Traditional Arabic',\n",
       " 'Showcard Gothic',\n",
       " 'GoudyOlSt BT',\n",
       " 'Microsoft Himalaya',\n",
       " 'Forte',\n",
       " 'Microsoft Yi Baiti',\n",
       " 'Yj BUTGOT Light ',\n",
       " 'Palace Script MT',\n",
       " 'Garamond',\n",
       " 'Vani',\n",
       " 'Gautami',\n",
       " 'Blippo Blk BT',\n",
       " 'Cambria',\n",
       " 'Century Schoolbook',\n",
       " 'Gisha',\n",
       " 'Levenim MT',\n",
       " 'Copperplate Gothic Bold',\n",
       " 'Vijaya',\n",
       " 'NanumSquare',\n",
       " 'Meiryo',\n",
       " 'Brush Script MT',\n",
       " 'Yj SOSEL SemiBold',\n",
       " 'MoeumT R',\n",
       " 'Agency FB',\n",
       " 'DFKai-SB',\n",
       " 'AngsanaUPC',\n",
       " '??????',\n",
       " 'Mangal',\n",
       " 'HYHeadLine-Medium',\n",
       " 'Century Schoolbook',\n",
       " 'Vani',\n",
       " 'Palatino Linotype',\n",
       " 'Yj INITIALPOSITIVE Medium',\n",
       " 'Haansoft Batang',\n",
       " 'NanumSquareRound',\n",
       " 'HYsanB',\n",
       " 'Century Gothic',\n",
       " 'Georgia',\n",
       " 'Iskoola Pota',\n",
       " 'Modern No. 20',\n",
       " 'Yet R',\n",
       " 'NanumBarunpen',\n",
       " 'Verdana',\n",
       " 'HYbsrB',\n",
       " 'Gill Sans MT',\n",
       " 'HYnamM',\n",
       " 'Orbit-B BT',\n",
       " 'Rockwell Condensed',\n",
       " 'Arial Unicode MS',\n",
       " 'Haan YGodic 230',\n",
       " 'Franklin Gothic Heavy',\n",
       " 'HYSinMyeongJo-Medium',\n",
       " 'Lucida Calligraphy',\n",
       " 'Gisha',\n",
       " 'Perpetua Titling MT',\n",
       " 'Simplified Arabic Fixed',\n",
       " 'Bodoni MT',\n",
       " '??????',\n",
       " 'HYPMokGak-Bold',\n",
       " 'Bauhaus 93',\n",
       " 'GoudyOlSt BT',\n",
       " 'BM HANNA Air',\n",
       " 'Papyrus',\n",
       " 'DilleniaUPC',\n",
       " 'Trebuchet MS',\n",
       " 'Corbel',\n",
       " 'Wingdings 2',\n",
       " 'Haan Sale B',\n",
       " 'Gigi',\n",
       " 'Matura MT Script Capitals',\n",
       " 'Bell MT',\n",
       " 'BrushScript BT',\n",
       " 'MDotum',\n",
       " 'Lucida Fax',\n",
       " 'Perpetua',\n",
       " 'GoudyOlSt BT',\n",
       " 'Tw Cen MT Condensed',\n",
       " 'Yj MAEHWA  SemiBold',\n",
       " 'EucrosiaUPC',\n",
       " 'Utsaah',\n",
       " 'Segoe Script',\n",
       " 'Cordia New',\n",
       " 'Ami R',\n",
       " 'Latha',\n",
       " 'Bodoni MT',\n",
       " 'Microsoft YaHei',\n",
       " 'Niagara Solid',\n",
       " 'Gill Sans MT',\n",
       " 'JasmineUPC',\n",
       " 'Miriam']"
      ]
     },
     "execution_count": 12,
     "metadata": {},
     "output_type": "execute_result"
    }
   ],
   "source": [
    "[f.name for f in fm.fontManager.ttflist if '' in f.name]"
   ]
  },
  {
   "cell_type": "markdown",
   "metadata": {},
   "source": [
    "# 7. 나눔고딕을 사용할 예정이기 때문에 이름에 'Nanum'이 들어간 폰트만 가져옵니다. "
   ]
  },
  {
   "cell_type": "code",
   "execution_count": 41,
   "metadata": {},
   "outputs": [
    {
     "data": {
      "text/plain": [
       "[('NanumBarunGothic', 'C:\\\\Windows\\\\Fonts\\\\NanumBarunGothicUltraLight.ttf'),\n",
       " ('NanumSquare', 'C:\\\\Windows\\\\Fonts\\\\NanumSquareR.ttf'),\n",
       " ('NanumSquareRound', 'C:\\\\Windows\\\\Fonts\\\\NanumSquareRoundEB.ttf'),\n",
       " ('NanumSquareRound', 'C:\\\\Windows\\\\Fonts\\\\NanumSquareRoundL.ttf'),\n",
       " ('Nanum Brush Script', 'C:\\\\Windows\\\\Fonts\\\\NanumBrush.ttf'),\n",
       " ('NanumBarunpen', 'C:\\\\Windows\\\\Fonts\\\\NanumBarunpenB.ttf'),\n",
       " ('NanumSquareRound', 'C:\\\\Windows\\\\Fonts\\\\NanumSquareRoundB.ttf'),\n",
       " ('NanumBarunGothic', 'C:\\\\Windows\\\\Fonts\\\\NanumBarunGothicBold.ttf'),\n",
       " ('NanumMyeongjo', 'C:\\\\Windows\\\\Fonts\\\\NanumMyeongjoExtraBold.ttf'),\n",
       " ('Nanum Pen Script', 'C:\\\\Windows\\\\Fonts\\\\NanumPen.ttf'),\n",
       " ('NanumSquare', 'C:\\\\Windows\\\\Fonts\\\\NanumSquareL.ttf'),\n",
       " ('NanumMyeongjo', 'C:\\\\Windows\\\\Fonts\\\\NanumMyeongjoBold.ttf'),\n",
       " ('NanumGothic', 'C:\\\\Windows\\\\Fonts\\\\NanumGothicBold.ttf'),\n",
       " ('NanumGothic', 'C:\\\\Windows\\\\Fonts\\\\NanumGothic.ttf'),\n",
       " ('NanumGothic', 'C:\\\\Windows\\\\Fonts\\\\NanumGothicLight.ttf'),\n",
       " ('NanumGothic', 'C:\\\\Windows\\\\Fonts\\\\NanumGothicExtraBold.ttf'),\n",
       " ('NanumBarunGothic', 'C:\\\\Windows\\\\Fonts\\\\NanumBarunGothic.ttf'),\n",
       " ('NanumMyeongjo', 'C:\\\\Windows\\\\Fonts\\\\NanumMyeongjo.ttf'),\n",
       " ('NanumBarunGothic', 'C:\\\\Windows\\\\Fonts\\\\NanumBarunGothicLight.ttf'),\n",
       " ('NanumSquare', 'C:\\\\Windows\\\\Fonts\\\\NanumSquareB.ttf'),\n",
       " ('NanumSquare', 'C:\\\\Windows\\\\Fonts\\\\NanumSquareEB.ttf'),\n",
       " ('NanumSquareRound', 'C:\\\\Windows\\\\Fonts\\\\NanumSquareRoundR.ttf'),\n",
       " ('NanumBarunpen', 'C:\\\\Windows\\\\Fonts\\\\NanumBarunpenR.ttf')]"
      ]
     },
     "execution_count": 41,
     "metadata": {},
     "output_type": "execute_result"
    }
   ],
   "source": [
    "[(f.name , f.fname) for f in fm.fontManager.ttflist if 'Nanum' in f.name]"
   ]
  },
  {
   "cell_type": "markdown",
   "metadata": {},
   "source": [
    "## 8. 폰트를 사용하는 방법은 3가지가 있습니다. \n",
    "    1) FontProperties 를 사용하는 방법 - 그래프의 폰트가 필요한 항목마다 지정해 주어야 합니다. \n",
    "    2) matplotlib.rcParams[]으로 전역글꼴 설정 방법 - 그래프에 설정을 해주면 폰트가 필요한 항목에 적용됩니다. \n",
    "    3) 2)번의 방법을 mpl.matplotlib_fname()로 읽어지는 설정 파일에 직접 적어주는 방법, 단 모든 노트북에 적용됩니다. 노트북을 열 때마다 지정해 주지 않아도 되서 편리합니다."
   ]
  },
  {
   "cell_type": "markdown",
   "metadata": {},
   "source": [
    "## 1) FontPorperties를 사용하는 방법\n",
    " * 텍스트를 지정하는 항목에 지정해 사용할 수 있습니다. 지정해 준 항목에만 해당 폰트가 적용 됩니다. \n",
    " * matplotlib.pyplot\n",
    "    * title()\n",
    "    * xlabel()\n",
    "    * ylabel()\n",
    "    * legend()\n",
    "    * text()\n",
    "    \n",
    " * matplotlib.axes\n",
    "    * set_title()"
   ]
  },
  {
   "cell_type": "markdown",
   "metadata": {},
   "source": [
    "## 위치가 어딘지 잘 몰라서 지정이 안됨"
   ]
  },
  {
   "cell_type": "code",
   "execution_count": 23,
   "metadata": {},
   "outputs": [
    {
     "ename": "FileNotFoundError",
     "evalue": "[Errno 2] No such file or directory: 'C:/Windows/Fonts/NanumBarunpenRegular.otf'",
     "output_type": "error",
     "traceback": [
      "\u001b[1;31m---------------------------------------------------------------------------\u001b[0m",
      "\u001b[1;31mFileNotFoundError\u001b[0m                         Traceback (most recent call last)",
      "\u001b[1;32mC:\\ProgramData\\Anaconda3\\envs\\pyth3.7\\lib\\site-packages\\IPython\\core\\formatters.py\u001b[0m in \u001b[0;36m__call__\u001b[1;34m(self, obj)\u001b[0m\n\u001b[0;32m    339\u001b[0m                 \u001b[1;32mpass\u001b[0m\u001b[1;33m\u001b[0m\u001b[1;33m\u001b[0m\u001b[0m\n\u001b[0;32m    340\u001b[0m             \u001b[1;32melse\u001b[0m\u001b[1;33m:\u001b[0m\u001b[1;33m\u001b[0m\u001b[1;33m\u001b[0m\u001b[0m\n\u001b[1;32m--> 341\u001b[1;33m                 \u001b[1;32mreturn\u001b[0m \u001b[0mprinter\u001b[0m\u001b[1;33m(\u001b[0m\u001b[0mobj\u001b[0m\u001b[1;33m)\u001b[0m\u001b[1;33m\u001b[0m\u001b[1;33m\u001b[0m\u001b[0m\n\u001b[0m\u001b[0;32m    342\u001b[0m             \u001b[1;31m# Finally look for special method names\u001b[0m\u001b[1;33m\u001b[0m\u001b[1;33m\u001b[0m\u001b[1;33m\u001b[0m\u001b[0m\n\u001b[0;32m    343\u001b[0m             \u001b[0mmethod\u001b[0m \u001b[1;33m=\u001b[0m \u001b[0mget_real_method\u001b[0m\u001b[1;33m(\u001b[0m\u001b[0mobj\u001b[0m\u001b[1;33m,\u001b[0m \u001b[0mself\u001b[0m\u001b[1;33m.\u001b[0m\u001b[0mprint_method\u001b[0m\u001b[1;33m)\u001b[0m\u001b[1;33m\u001b[0m\u001b[1;33m\u001b[0m\u001b[0m\n",
      "\u001b[1;32mC:\\ProgramData\\Anaconda3\\envs\\pyth3.7\\lib\\site-packages\\IPython\\core\\pylabtools.py\u001b[0m in \u001b[0;36m<lambda>\u001b[1;34m(fig)\u001b[0m\n\u001b[0;32m    242\u001b[0m \u001b[1;33m\u001b[0m\u001b[0m\n\u001b[0;32m    243\u001b[0m     \u001b[1;32mif\u001b[0m \u001b[1;34m'png'\u001b[0m \u001b[1;32min\u001b[0m \u001b[0mformats\u001b[0m\u001b[1;33m:\u001b[0m\u001b[1;33m\u001b[0m\u001b[1;33m\u001b[0m\u001b[0m\n\u001b[1;32m--> 244\u001b[1;33m         \u001b[0mpng_formatter\u001b[0m\u001b[1;33m.\u001b[0m\u001b[0mfor_type\u001b[0m\u001b[1;33m(\u001b[0m\u001b[0mFigure\u001b[0m\u001b[1;33m,\u001b[0m \u001b[1;32mlambda\u001b[0m \u001b[0mfig\u001b[0m\u001b[1;33m:\u001b[0m \u001b[0mprint_figure\u001b[0m\u001b[1;33m(\u001b[0m\u001b[0mfig\u001b[0m\u001b[1;33m,\u001b[0m \u001b[1;34m'png'\u001b[0m\u001b[1;33m,\u001b[0m \u001b[1;33m**\u001b[0m\u001b[0mkwargs\u001b[0m\u001b[1;33m)\u001b[0m\u001b[1;33m)\u001b[0m\u001b[1;33m\u001b[0m\u001b[1;33m\u001b[0m\u001b[0m\n\u001b[0m\u001b[0;32m    245\u001b[0m     \u001b[1;32mif\u001b[0m \u001b[1;34m'retina'\u001b[0m \u001b[1;32min\u001b[0m \u001b[0mformats\u001b[0m \u001b[1;32mor\u001b[0m \u001b[1;34m'png2x'\u001b[0m \u001b[1;32min\u001b[0m \u001b[0mformats\u001b[0m\u001b[1;33m:\u001b[0m\u001b[1;33m\u001b[0m\u001b[1;33m\u001b[0m\u001b[0m\n\u001b[0;32m    246\u001b[0m         \u001b[0mpng_formatter\u001b[0m\u001b[1;33m.\u001b[0m\u001b[0mfor_type\u001b[0m\u001b[1;33m(\u001b[0m\u001b[0mFigure\u001b[0m\u001b[1;33m,\u001b[0m \u001b[1;32mlambda\u001b[0m \u001b[0mfig\u001b[0m\u001b[1;33m:\u001b[0m \u001b[0mretina_figure\u001b[0m\u001b[1;33m(\u001b[0m\u001b[0mfig\u001b[0m\u001b[1;33m,\u001b[0m \u001b[1;33m**\u001b[0m\u001b[0mkwargs\u001b[0m\u001b[1;33m)\u001b[0m\u001b[1;33m)\u001b[0m\u001b[1;33m\u001b[0m\u001b[1;33m\u001b[0m\u001b[0m\n",
      "\u001b[1;32mC:\\ProgramData\\Anaconda3\\envs\\pyth3.7\\lib\\site-packages\\IPython\\core\\pylabtools.py\u001b[0m in \u001b[0;36mprint_figure\u001b[1;34m(fig, fmt, bbox_inches, **kwargs)\u001b[0m\n\u001b[0;32m    126\u001b[0m \u001b[1;33m\u001b[0m\u001b[0m\n\u001b[0;32m    127\u001b[0m     \u001b[0mbytes_io\u001b[0m \u001b[1;33m=\u001b[0m \u001b[0mBytesIO\u001b[0m\u001b[1;33m(\u001b[0m\u001b[1;33m)\u001b[0m\u001b[1;33m\u001b[0m\u001b[1;33m\u001b[0m\u001b[0m\n\u001b[1;32m--> 128\u001b[1;33m     \u001b[0mfig\u001b[0m\u001b[1;33m.\u001b[0m\u001b[0mcanvas\u001b[0m\u001b[1;33m.\u001b[0m\u001b[0mprint_figure\u001b[0m\u001b[1;33m(\u001b[0m\u001b[0mbytes_io\u001b[0m\u001b[1;33m,\u001b[0m \u001b[1;33m**\u001b[0m\u001b[0mkw\u001b[0m\u001b[1;33m)\u001b[0m\u001b[1;33m\u001b[0m\u001b[1;33m\u001b[0m\u001b[0m\n\u001b[0m\u001b[0;32m    129\u001b[0m     \u001b[0mdata\u001b[0m \u001b[1;33m=\u001b[0m \u001b[0mbytes_io\u001b[0m\u001b[1;33m.\u001b[0m\u001b[0mgetvalue\u001b[0m\u001b[1;33m(\u001b[0m\u001b[1;33m)\u001b[0m\u001b[1;33m\u001b[0m\u001b[1;33m\u001b[0m\u001b[0m\n\u001b[0;32m    130\u001b[0m     \u001b[1;32mif\u001b[0m \u001b[0mfmt\u001b[0m \u001b[1;33m==\u001b[0m \u001b[1;34m'svg'\u001b[0m\u001b[1;33m:\u001b[0m\u001b[1;33m\u001b[0m\u001b[1;33m\u001b[0m\u001b[0m\n",
      "\u001b[1;32mC:\\ProgramData\\Anaconda3\\envs\\pyth3.7\\lib\\site-packages\\matplotlib\\backend_bases.py\u001b[0m in \u001b[0;36mprint_figure\u001b[1;34m(self, filename, dpi, facecolor, edgecolor, orientation, format, bbox_inches, **kwargs)\u001b[0m\n\u001b[0;32m   2054\u001b[0m                         \u001b[0morientation\u001b[0m\u001b[1;33m=\u001b[0m\u001b[0morientation\u001b[0m\u001b[1;33m,\u001b[0m\u001b[1;33m\u001b[0m\u001b[1;33m\u001b[0m\u001b[0m\n\u001b[0;32m   2055\u001b[0m                         \u001b[0mdryrun\u001b[0m\u001b[1;33m=\u001b[0m\u001b[1;32mTrue\u001b[0m\u001b[1;33m,\u001b[0m\u001b[1;33m\u001b[0m\u001b[1;33m\u001b[0m\u001b[0m\n\u001b[1;32m-> 2056\u001b[1;33m                         **kwargs)\n\u001b[0m\u001b[0;32m   2057\u001b[0m                     \u001b[0mrenderer\u001b[0m \u001b[1;33m=\u001b[0m \u001b[0mself\u001b[0m\u001b[1;33m.\u001b[0m\u001b[0mfigure\u001b[0m\u001b[1;33m.\u001b[0m\u001b[0m_cachedRenderer\u001b[0m\u001b[1;33m\u001b[0m\u001b[1;33m\u001b[0m\u001b[0m\n\u001b[0;32m   2058\u001b[0m                     \u001b[0mbbox_artists\u001b[0m \u001b[1;33m=\u001b[0m \u001b[0mkwargs\u001b[0m\u001b[1;33m.\u001b[0m\u001b[0mpop\u001b[0m\u001b[1;33m(\u001b[0m\u001b[1;34m\"bbox_extra_artists\"\u001b[0m\u001b[1;33m,\u001b[0m \u001b[1;32mNone\u001b[0m\u001b[1;33m)\u001b[0m\u001b[1;33m\u001b[0m\u001b[1;33m\u001b[0m\u001b[0m\n",
      "\u001b[1;32mC:\\ProgramData\\Anaconda3\\envs\\pyth3.7\\lib\\site-packages\\matplotlib\\backends\\backend_agg.py\u001b[0m in \u001b[0;36mprint_png\u001b[1;34m(self, filename_or_obj, metadata, pil_kwargs, *args, **kwargs)\u001b[0m\n\u001b[0;32m    525\u001b[0m \u001b[1;33m\u001b[0m\u001b[0m\n\u001b[0;32m    526\u001b[0m         \u001b[1;32melse\u001b[0m\u001b[1;33m:\u001b[0m\u001b[1;33m\u001b[0m\u001b[1;33m\u001b[0m\u001b[0m\n\u001b[1;32m--> 527\u001b[1;33m             \u001b[0mFigureCanvasAgg\u001b[0m\u001b[1;33m.\u001b[0m\u001b[0mdraw\u001b[0m\u001b[1;33m(\u001b[0m\u001b[0mself\u001b[0m\u001b[1;33m)\u001b[0m\u001b[1;33m\u001b[0m\u001b[1;33m\u001b[0m\u001b[0m\n\u001b[0m\u001b[0;32m    528\u001b[0m             \u001b[0mrenderer\u001b[0m \u001b[1;33m=\u001b[0m \u001b[0mself\u001b[0m\u001b[1;33m.\u001b[0m\u001b[0mget_renderer\u001b[0m\u001b[1;33m(\u001b[0m\u001b[1;33m)\u001b[0m\u001b[1;33m\u001b[0m\u001b[1;33m\u001b[0m\u001b[0m\n\u001b[0;32m    529\u001b[0m             \u001b[1;32mwith\u001b[0m \u001b[0mcbook\u001b[0m\u001b[1;33m.\u001b[0m\u001b[0m_setattr_cm\u001b[0m\u001b[1;33m(\u001b[0m\u001b[0mrenderer\u001b[0m\u001b[1;33m,\u001b[0m \u001b[0mdpi\u001b[0m\u001b[1;33m=\u001b[0m\u001b[0mself\u001b[0m\u001b[1;33m.\u001b[0m\u001b[0mfigure\u001b[0m\u001b[1;33m.\u001b[0m\u001b[0mdpi\u001b[0m\u001b[1;33m)\u001b[0m\u001b[1;33m,\u001b[0m\u001b[0;31m \u001b[0m\u001b[0;31m\\\u001b[0m\u001b[1;33m\u001b[0m\u001b[1;33m\u001b[0m\u001b[0m\n",
      "\u001b[1;32mC:\\ProgramData\\Anaconda3\\envs\\pyth3.7\\lib\\site-packages\\matplotlib\\backends\\backend_agg.py\u001b[0m in \u001b[0;36mdraw\u001b[1;34m(self)\u001b[0m\n\u001b[0;32m    386\u001b[0m         \u001b[0mself\u001b[0m\u001b[1;33m.\u001b[0m\u001b[0mrenderer\u001b[0m \u001b[1;33m=\u001b[0m \u001b[0mself\u001b[0m\u001b[1;33m.\u001b[0m\u001b[0mget_renderer\u001b[0m\u001b[1;33m(\u001b[0m\u001b[0mcleared\u001b[0m\u001b[1;33m=\u001b[0m\u001b[1;32mTrue\u001b[0m\u001b[1;33m)\u001b[0m\u001b[1;33m\u001b[0m\u001b[1;33m\u001b[0m\u001b[0m\n\u001b[0;32m    387\u001b[0m         \u001b[1;32mwith\u001b[0m \u001b[0mRendererAgg\u001b[0m\u001b[1;33m.\u001b[0m\u001b[0mlock\u001b[0m\u001b[1;33m:\u001b[0m\u001b[1;33m\u001b[0m\u001b[1;33m\u001b[0m\u001b[0m\n\u001b[1;32m--> 388\u001b[1;33m             \u001b[0mself\u001b[0m\u001b[1;33m.\u001b[0m\u001b[0mfigure\u001b[0m\u001b[1;33m.\u001b[0m\u001b[0mdraw\u001b[0m\u001b[1;33m(\u001b[0m\u001b[0mself\u001b[0m\u001b[1;33m.\u001b[0m\u001b[0mrenderer\u001b[0m\u001b[1;33m)\u001b[0m\u001b[1;33m\u001b[0m\u001b[1;33m\u001b[0m\u001b[0m\n\u001b[0m\u001b[0;32m    389\u001b[0m             \u001b[1;31m# A GUI class may be need to update a window using this draw, so\u001b[0m\u001b[1;33m\u001b[0m\u001b[1;33m\u001b[0m\u001b[1;33m\u001b[0m\u001b[0m\n\u001b[0;32m    390\u001b[0m             \u001b[1;31m# don't forget to call the superclass.\u001b[0m\u001b[1;33m\u001b[0m\u001b[1;33m\u001b[0m\u001b[1;33m\u001b[0m\u001b[0m\n",
      "\u001b[1;32mC:\\ProgramData\\Anaconda3\\envs\\pyth3.7\\lib\\site-packages\\matplotlib\\artist.py\u001b[0m in \u001b[0;36mdraw_wrapper\u001b[1;34m(artist, renderer, *args, **kwargs)\u001b[0m\n\u001b[0;32m     36\u001b[0m                 \u001b[0mrenderer\u001b[0m\u001b[1;33m.\u001b[0m\u001b[0mstart_filter\u001b[0m\u001b[1;33m(\u001b[0m\u001b[1;33m)\u001b[0m\u001b[1;33m\u001b[0m\u001b[1;33m\u001b[0m\u001b[0m\n\u001b[0;32m     37\u001b[0m \u001b[1;33m\u001b[0m\u001b[0m\n\u001b[1;32m---> 38\u001b[1;33m             \u001b[1;32mreturn\u001b[0m \u001b[0mdraw\u001b[0m\u001b[1;33m(\u001b[0m\u001b[0martist\u001b[0m\u001b[1;33m,\u001b[0m \u001b[0mrenderer\u001b[0m\u001b[1;33m,\u001b[0m \u001b[1;33m*\u001b[0m\u001b[0margs\u001b[0m\u001b[1;33m,\u001b[0m \u001b[1;33m**\u001b[0m\u001b[0mkwargs\u001b[0m\u001b[1;33m)\u001b[0m\u001b[1;33m\u001b[0m\u001b[1;33m\u001b[0m\u001b[0m\n\u001b[0m\u001b[0;32m     39\u001b[0m         \u001b[1;32mfinally\u001b[0m\u001b[1;33m:\u001b[0m\u001b[1;33m\u001b[0m\u001b[1;33m\u001b[0m\u001b[0m\n\u001b[0;32m     40\u001b[0m             \u001b[1;32mif\u001b[0m \u001b[0martist\u001b[0m\u001b[1;33m.\u001b[0m\u001b[0mget_agg_filter\u001b[0m\u001b[1;33m(\u001b[0m\u001b[1;33m)\u001b[0m \u001b[1;32mis\u001b[0m \u001b[1;32mnot\u001b[0m \u001b[1;32mNone\u001b[0m\u001b[1;33m:\u001b[0m\u001b[1;33m\u001b[0m\u001b[1;33m\u001b[0m\u001b[0m\n",
      "\u001b[1;32mC:\\ProgramData\\Anaconda3\\envs\\pyth3.7\\lib\\site-packages\\matplotlib\\figure.py\u001b[0m in \u001b[0;36mdraw\u001b[1;34m(self, renderer)\u001b[0m\n\u001b[0;32m   1707\u001b[0m             \u001b[0mself\u001b[0m\u001b[1;33m.\u001b[0m\u001b[0mpatch\u001b[0m\u001b[1;33m.\u001b[0m\u001b[0mdraw\u001b[0m\u001b[1;33m(\u001b[0m\u001b[0mrenderer\u001b[0m\u001b[1;33m)\u001b[0m\u001b[1;33m\u001b[0m\u001b[1;33m\u001b[0m\u001b[0m\n\u001b[0;32m   1708\u001b[0m             mimage._draw_list_compositing_images(\n\u001b[1;32m-> 1709\u001b[1;33m                 renderer, self, artists, self.suppressComposite)\n\u001b[0m\u001b[0;32m   1710\u001b[0m \u001b[1;33m\u001b[0m\u001b[0m\n\u001b[0;32m   1711\u001b[0m             \u001b[0mrenderer\u001b[0m\u001b[1;33m.\u001b[0m\u001b[0mclose_group\u001b[0m\u001b[1;33m(\u001b[0m\u001b[1;34m'figure'\u001b[0m\u001b[1;33m)\u001b[0m\u001b[1;33m\u001b[0m\u001b[1;33m\u001b[0m\u001b[0m\n",
      "\u001b[1;32mC:\\ProgramData\\Anaconda3\\envs\\pyth3.7\\lib\\site-packages\\matplotlib\\image.py\u001b[0m in \u001b[0;36m_draw_list_compositing_images\u001b[1;34m(renderer, parent, artists, suppress_composite)\u001b[0m\n\u001b[0;32m    133\u001b[0m     \u001b[1;32mif\u001b[0m \u001b[0mnot_composite\u001b[0m \u001b[1;32mor\u001b[0m \u001b[1;32mnot\u001b[0m \u001b[0mhas_images\u001b[0m\u001b[1;33m:\u001b[0m\u001b[1;33m\u001b[0m\u001b[1;33m\u001b[0m\u001b[0m\n\u001b[0;32m    134\u001b[0m         \u001b[1;32mfor\u001b[0m \u001b[0ma\u001b[0m \u001b[1;32min\u001b[0m \u001b[0martists\u001b[0m\u001b[1;33m:\u001b[0m\u001b[1;33m\u001b[0m\u001b[1;33m\u001b[0m\u001b[0m\n\u001b[1;32m--> 135\u001b[1;33m             \u001b[0ma\u001b[0m\u001b[1;33m.\u001b[0m\u001b[0mdraw\u001b[0m\u001b[1;33m(\u001b[0m\u001b[0mrenderer\u001b[0m\u001b[1;33m)\u001b[0m\u001b[1;33m\u001b[0m\u001b[1;33m\u001b[0m\u001b[0m\n\u001b[0m\u001b[0;32m    136\u001b[0m     \u001b[1;32melse\u001b[0m\u001b[1;33m:\u001b[0m\u001b[1;33m\u001b[0m\u001b[1;33m\u001b[0m\u001b[0m\n\u001b[0;32m    137\u001b[0m         \u001b[1;31m# Composite any adjacent images together\u001b[0m\u001b[1;33m\u001b[0m\u001b[1;33m\u001b[0m\u001b[1;33m\u001b[0m\u001b[0m\n",
      "\u001b[1;32mC:\\ProgramData\\Anaconda3\\envs\\pyth3.7\\lib\\site-packages\\matplotlib\\artist.py\u001b[0m in \u001b[0;36mdraw_wrapper\u001b[1;34m(artist, renderer, *args, **kwargs)\u001b[0m\n\u001b[0;32m     36\u001b[0m                 \u001b[0mrenderer\u001b[0m\u001b[1;33m.\u001b[0m\u001b[0mstart_filter\u001b[0m\u001b[1;33m(\u001b[0m\u001b[1;33m)\u001b[0m\u001b[1;33m\u001b[0m\u001b[1;33m\u001b[0m\u001b[0m\n\u001b[0;32m     37\u001b[0m \u001b[1;33m\u001b[0m\u001b[0m\n\u001b[1;32m---> 38\u001b[1;33m             \u001b[1;32mreturn\u001b[0m \u001b[0mdraw\u001b[0m\u001b[1;33m(\u001b[0m\u001b[0martist\u001b[0m\u001b[1;33m,\u001b[0m \u001b[0mrenderer\u001b[0m\u001b[1;33m,\u001b[0m \u001b[1;33m*\u001b[0m\u001b[0margs\u001b[0m\u001b[1;33m,\u001b[0m \u001b[1;33m**\u001b[0m\u001b[0mkwargs\u001b[0m\u001b[1;33m)\u001b[0m\u001b[1;33m\u001b[0m\u001b[1;33m\u001b[0m\u001b[0m\n\u001b[0m\u001b[0;32m     39\u001b[0m         \u001b[1;32mfinally\u001b[0m\u001b[1;33m:\u001b[0m\u001b[1;33m\u001b[0m\u001b[1;33m\u001b[0m\u001b[0m\n\u001b[0;32m     40\u001b[0m             \u001b[1;32mif\u001b[0m \u001b[0martist\u001b[0m\u001b[1;33m.\u001b[0m\u001b[0mget_agg_filter\u001b[0m\u001b[1;33m(\u001b[0m\u001b[1;33m)\u001b[0m \u001b[1;32mis\u001b[0m \u001b[1;32mnot\u001b[0m \u001b[1;32mNone\u001b[0m\u001b[1;33m:\u001b[0m\u001b[1;33m\u001b[0m\u001b[1;33m\u001b[0m\u001b[0m\n",
      "\u001b[1;32mC:\\ProgramData\\Anaconda3\\envs\\pyth3.7\\lib\\site-packages\\matplotlib\\axes\\_base.py\u001b[0m in \u001b[0;36mdraw\u001b[1;34m(self, renderer, inframe)\u001b[0m\n\u001b[0;32m   2603\u001b[0m                 \u001b[0martists\u001b[0m\u001b[1;33m.\u001b[0m\u001b[0mremove\u001b[0m\u001b[1;33m(\u001b[0m\u001b[0mspine\u001b[0m\u001b[1;33m)\u001b[0m\u001b[1;33m\u001b[0m\u001b[1;33m\u001b[0m\u001b[0m\n\u001b[0;32m   2604\u001b[0m \u001b[1;33m\u001b[0m\u001b[0m\n\u001b[1;32m-> 2605\u001b[1;33m         \u001b[0mself\u001b[0m\u001b[1;33m.\u001b[0m\u001b[0m_update_title_position\u001b[0m\u001b[1;33m(\u001b[0m\u001b[0mrenderer\u001b[0m\u001b[1;33m)\u001b[0m\u001b[1;33m\u001b[0m\u001b[1;33m\u001b[0m\u001b[0m\n\u001b[0m\u001b[0;32m   2606\u001b[0m \u001b[1;33m\u001b[0m\u001b[0m\n\u001b[0;32m   2607\u001b[0m         \u001b[1;32mif\u001b[0m \u001b[1;32mnot\u001b[0m \u001b[0mself\u001b[0m\u001b[1;33m.\u001b[0m\u001b[0maxison\u001b[0m \u001b[1;32mor\u001b[0m \u001b[0minframe\u001b[0m\u001b[1;33m:\u001b[0m\u001b[1;33m\u001b[0m\u001b[1;33m\u001b[0m\u001b[0m\n",
      "\u001b[1;32mC:\\ProgramData\\Anaconda3\\envs\\pyth3.7\\lib\\site-packages\\matplotlib\\axes\\_base.py\u001b[0m in \u001b[0;36m_update_title_position\u001b[1;34m(self, renderer)\u001b[0m\n\u001b[0;32m   2552\u001b[0m                     \u001b[1;31m# this happens for an empty bb\u001b[0m\u001b[1;33m\u001b[0m\u001b[1;33m\u001b[0m\u001b[1;33m\u001b[0m\u001b[0m\n\u001b[0;32m   2553\u001b[0m                     \u001b[0my\u001b[0m \u001b[1;33m=\u001b[0m \u001b[1;36m1\u001b[0m\u001b[1;33m\u001b[0m\u001b[1;33m\u001b[0m\u001b[0m\n\u001b[1;32m-> 2554\u001b[1;33m             \u001b[1;32mif\u001b[0m \u001b[0mtitle\u001b[0m\u001b[1;33m.\u001b[0m\u001b[0mget_window_extent\u001b[0m\u001b[1;33m(\u001b[0m\u001b[0mrenderer\u001b[0m\u001b[1;33m)\u001b[0m\u001b[1;33m.\u001b[0m\u001b[0mymin\u001b[0m \u001b[1;33m<\u001b[0m \u001b[0mtop\u001b[0m\u001b[1;33m:\u001b[0m\u001b[1;33m\u001b[0m\u001b[1;33m\u001b[0m\u001b[0m\n\u001b[0m\u001b[0;32m   2555\u001b[0m                 y = self.transAxes.inverted().transform(\n\u001b[0;32m   2556\u001b[0m                         (0., top))[1]\n",
      "\u001b[1;32mC:\\ProgramData\\Anaconda3\\envs\\pyth3.7\\lib\\site-packages\\matplotlib\\text.py\u001b[0m in \u001b[0;36mget_window_extent\u001b[1;34m(self, renderer, dpi)\u001b[0m\n\u001b[0;32m    888\u001b[0m             \u001b[1;32mraise\u001b[0m \u001b[0mRuntimeError\u001b[0m\u001b[1;33m(\u001b[0m\u001b[1;34m'Cannot get window extent w/o renderer'\u001b[0m\u001b[1;33m)\u001b[0m\u001b[1;33m\u001b[0m\u001b[1;33m\u001b[0m\u001b[0m\n\u001b[0;32m    889\u001b[0m \u001b[1;33m\u001b[0m\u001b[0m\n\u001b[1;32m--> 890\u001b[1;33m         \u001b[0mbbox\u001b[0m\u001b[1;33m,\u001b[0m \u001b[0minfo\u001b[0m\u001b[1;33m,\u001b[0m \u001b[0mdescent\u001b[0m \u001b[1;33m=\u001b[0m \u001b[0mself\u001b[0m\u001b[1;33m.\u001b[0m\u001b[0m_get_layout\u001b[0m\u001b[1;33m(\u001b[0m\u001b[0mself\u001b[0m\u001b[1;33m.\u001b[0m\u001b[0m_renderer\u001b[0m\u001b[1;33m)\u001b[0m\u001b[1;33m\u001b[0m\u001b[1;33m\u001b[0m\u001b[0m\n\u001b[0m\u001b[0;32m    891\u001b[0m         \u001b[0mx\u001b[0m\u001b[1;33m,\u001b[0m \u001b[0my\u001b[0m \u001b[1;33m=\u001b[0m \u001b[0mself\u001b[0m\u001b[1;33m.\u001b[0m\u001b[0mget_unitless_position\u001b[0m\u001b[1;33m(\u001b[0m\u001b[1;33m)\u001b[0m\u001b[1;33m\u001b[0m\u001b[1;33m\u001b[0m\u001b[0m\n\u001b[0;32m    892\u001b[0m         \u001b[0mx\u001b[0m\u001b[1;33m,\u001b[0m \u001b[0my\u001b[0m \u001b[1;33m=\u001b[0m \u001b[0mself\u001b[0m\u001b[1;33m.\u001b[0m\u001b[0mget_transform\u001b[0m\u001b[1;33m(\u001b[0m\u001b[1;33m)\u001b[0m\u001b[1;33m.\u001b[0m\u001b[0mtransform_point\u001b[0m\u001b[1;33m(\u001b[0m\u001b[1;33m(\u001b[0m\u001b[0mx\u001b[0m\u001b[1;33m,\u001b[0m \u001b[0my\u001b[0m\u001b[1;33m)\u001b[0m\u001b[1;33m)\u001b[0m\u001b[1;33m\u001b[0m\u001b[1;33m\u001b[0m\u001b[0m\n",
      "\u001b[1;32mC:\\ProgramData\\Anaconda3\\envs\\pyth3.7\\lib\\site-packages\\matplotlib\\text.py\u001b[0m in \u001b[0;36m_get_layout\u001b[1;34m(self, renderer)\u001b[0m\n\u001b[0;32m    289\u001b[0m         _, lp_h, lp_d = renderer.get_text_width_height_descent(\n\u001b[0;32m    290\u001b[0m             \u001b[1;34m\"lp\"\u001b[0m\u001b[1;33m,\u001b[0m \u001b[0mself\u001b[0m\u001b[1;33m.\u001b[0m\u001b[0m_fontproperties\u001b[0m\u001b[1;33m,\u001b[0m\u001b[1;33m\u001b[0m\u001b[1;33m\u001b[0m\u001b[0m\n\u001b[1;32m--> 291\u001b[1;33m             ismath=\"TeX\" if self.get_usetex() else False)\n\u001b[0m\u001b[0;32m    292\u001b[0m         \u001b[0mmin_dy\u001b[0m \u001b[1;33m=\u001b[0m \u001b[1;33m(\u001b[0m\u001b[0mlp_h\u001b[0m \u001b[1;33m-\u001b[0m \u001b[0mlp_d\u001b[0m\u001b[1;33m)\u001b[0m \u001b[1;33m*\u001b[0m \u001b[0mself\u001b[0m\u001b[1;33m.\u001b[0m\u001b[0m_linespacing\u001b[0m\u001b[1;33m\u001b[0m\u001b[1;33m\u001b[0m\u001b[0m\n\u001b[0;32m    293\u001b[0m \u001b[1;33m\u001b[0m\u001b[0m\n",
      "\u001b[1;32mC:\\ProgramData\\Anaconda3\\envs\\pyth3.7\\lib\\site-packages\\matplotlib\\backends\\backend_agg.py\u001b[0m in \u001b[0;36mget_text_width_height_descent\u001b[1;34m(self, s, prop, ismath)\u001b[0m\n\u001b[0;32m    208\u001b[0m \u001b[1;33m\u001b[0m\u001b[0m\n\u001b[0;32m    209\u001b[0m         \u001b[0mflags\u001b[0m \u001b[1;33m=\u001b[0m \u001b[0mget_hinting_flag\u001b[0m\u001b[1;33m(\u001b[0m\u001b[1;33m)\u001b[0m\u001b[1;33m\u001b[0m\u001b[1;33m\u001b[0m\u001b[0m\n\u001b[1;32m--> 210\u001b[1;33m         \u001b[0mfont\u001b[0m \u001b[1;33m=\u001b[0m \u001b[0mself\u001b[0m\u001b[1;33m.\u001b[0m\u001b[0m_get_agg_font\u001b[0m\u001b[1;33m(\u001b[0m\u001b[0mprop\u001b[0m\u001b[1;33m)\u001b[0m\u001b[1;33m\u001b[0m\u001b[1;33m\u001b[0m\u001b[0m\n\u001b[0m\u001b[0;32m    211\u001b[0m         \u001b[0mfont\u001b[0m\u001b[1;33m.\u001b[0m\u001b[0mset_text\u001b[0m\u001b[1;33m(\u001b[0m\u001b[0ms\u001b[0m\u001b[1;33m,\u001b[0m \u001b[1;36m0.0\u001b[0m\u001b[1;33m,\u001b[0m \u001b[0mflags\u001b[0m\u001b[1;33m=\u001b[0m\u001b[0mflags\u001b[0m\u001b[1;33m)\u001b[0m\u001b[1;33m\u001b[0m\u001b[1;33m\u001b[0m\u001b[0m\n\u001b[0;32m    212\u001b[0m         \u001b[0mw\u001b[0m\u001b[1;33m,\u001b[0m \u001b[0mh\u001b[0m \u001b[1;33m=\u001b[0m \u001b[0mfont\u001b[0m\u001b[1;33m.\u001b[0m\u001b[0mget_width_height\u001b[0m\u001b[1;33m(\u001b[0m\u001b[1;33m)\u001b[0m  \u001b[1;31m# width and height of unrotated string\u001b[0m\u001b[1;33m\u001b[0m\u001b[1;33m\u001b[0m\u001b[0m\n",
      "\u001b[1;32mC:\\ProgramData\\Anaconda3\\envs\\pyth3.7\\lib\\site-packages\\matplotlib\\backends\\backend_agg.py\u001b[0m in \u001b[0;36m_get_agg_font\u001b[1;34m(self, prop)\u001b[0m\n\u001b[0;32m    244\u001b[0m         \"\"\"\n\u001b[0;32m    245\u001b[0m         \u001b[0mfname\u001b[0m \u001b[1;33m=\u001b[0m \u001b[0mfindfont\u001b[0m\u001b[1;33m(\u001b[0m\u001b[0mprop\u001b[0m\u001b[1;33m)\u001b[0m\u001b[1;33m\u001b[0m\u001b[1;33m\u001b[0m\u001b[0m\n\u001b[1;32m--> 246\u001b[1;33m         \u001b[0mfont\u001b[0m \u001b[1;33m=\u001b[0m \u001b[0mget_font\u001b[0m\u001b[1;33m(\u001b[0m\u001b[0mfname\u001b[0m\u001b[1;33m)\u001b[0m\u001b[1;33m\u001b[0m\u001b[1;33m\u001b[0m\u001b[0m\n\u001b[0m\u001b[0;32m    247\u001b[0m \u001b[1;33m\u001b[0m\u001b[0m\n\u001b[0;32m    248\u001b[0m         \u001b[0mfont\u001b[0m\u001b[1;33m.\u001b[0m\u001b[0mclear\u001b[0m\u001b[1;33m(\u001b[0m\u001b[1;33m)\u001b[0m\u001b[1;33m\u001b[0m\u001b[1;33m\u001b[0m\u001b[0m\n",
      "\u001b[1;32mC:\\ProgramData\\Anaconda3\\envs\\pyth3.7\\lib\\site-packages\\matplotlib\\font_manager.py\u001b[0m in \u001b[0;36mget_font\u001b[1;34m(filename, hinting_factor)\u001b[0m\n\u001b[0;32m   1331\u001b[0m     \u001b[1;32mif\u001b[0m \u001b[0mhinting_factor\u001b[0m \u001b[1;32mis\u001b[0m \u001b[1;32mNone\u001b[0m\u001b[1;33m:\u001b[0m\u001b[1;33m\u001b[0m\u001b[1;33m\u001b[0m\u001b[0m\n\u001b[0;32m   1332\u001b[0m         \u001b[0mhinting_factor\u001b[0m \u001b[1;33m=\u001b[0m \u001b[0mrcParams\u001b[0m\u001b[1;33m[\u001b[0m\u001b[1;34m'text.hinting_factor'\u001b[0m\u001b[1;33m]\u001b[0m\u001b[1;33m\u001b[0m\u001b[1;33m\u001b[0m\u001b[0m\n\u001b[1;32m-> 1333\u001b[1;33m     \u001b[1;32mreturn\u001b[0m \u001b[0m_get_font\u001b[0m\u001b[1;33m(\u001b[0m\u001b[0mfilename\u001b[0m\u001b[1;33m,\u001b[0m \u001b[0mhinting_factor\u001b[0m\u001b[1;33m)\u001b[0m\u001b[1;33m\u001b[0m\u001b[1;33m\u001b[0m\u001b[0m\n\u001b[0m\u001b[0;32m   1334\u001b[0m \u001b[1;33m\u001b[0m\u001b[0m\n\u001b[0;32m   1335\u001b[0m \u001b[1;33m\u001b[0m\u001b[0m\n",
      "\u001b[1;31mFileNotFoundError\u001b[0m: [Errno 2] No such file or directory: 'C:/Windows/Fonts/NanumBarunpenRegular.otf'"
     ]
    },
    {
     "data": {
      "text/plain": [
       "<Figure size 432x288 with 1 Axes>"
      ]
     },
     "metadata": {
      "needs_background": "light"
     },
     "output_type": "display_data"
    }
   ],
   "source": [
    "path = 'C:/Windows/Fonts/NanumBarunpenRegular.otf'\n",
    "fontprop = fm.FontProperties(fname=path, size=18)\n",
    "\n",
    "plt.plot(range(50), data, 'r')\n",
    "plt.title('시간별 가격 추이', fontproperties=fontprop)\n",
    "plt.ylabel('주식 가격', fontproperties=fontprop)\n",
    "plt.xlabel('시간(분)', fontproperties=fontprop)\n",
    "plt.show()"
   ]
  },
  {
   "cell_type": "markdown",
   "metadata": {},
   "source": [
    "## 2) matplotlib.rcParams[]으로 전역글꼴 설정 방법"
   ]
  },
  {
   "cell_type": "code",
   "execution_count": 25,
   "metadata": {},
   "outputs": [
    {
     "name": "stdout",
     "output_type": "stream",
     "text": [
      "# 설정 되어있는 폰트 사이즈\n",
      "10.0\n",
      "# 설정 되어있는 폰트 글꼴\n",
      "['sans-serif']\n"
     ]
    }
   ],
   "source": [
    "# 기본 설정 읽기\n",
    "import matplotlib.pyplot as plt\n",
    "\n",
    "# size , family\n",
    "print('# 설정 되어있는 폰트 사이즈')\n",
    "print(plt.rcParams['font.size'])\n",
    "print('# 설정 되어있는 폰트 글꼴')\n",
    "print(plt.rcParams['font.family'])"
   ]
  },
  {
   "cell_type": "code",
   "execution_count": 26,
   "metadata": {},
   "outputs": [
    {
     "name": "stdout",
     "output_type": "stream",
     "text": [
      "serif 세리프가 있는 폰트----------\n",
      "['DejaVu Serif', 'Bitstream Vera Serif', 'Computer Modern Roman', 'New Century Schoolbook', 'Century Schoolbook L', 'Utopia', 'ITC Bookman', 'Bookman', 'Nimbus Roman No9 L', 'Times New Roman', 'Times', 'Palatino', 'Charter', 'serif']\n",
      "sans-serif 세리프가 없는 폰트--------------\n",
      "['DejaVu Sans', 'Bitstream Vera Sans', 'Computer Modern Sans Serif', 'Lucida Grande', 'Verdana', 'Geneva', 'Lucid', 'Arial', 'Helvetica', 'Avant Garde', 'sans-serif']\n",
      "monospace  고정폭 글꼴----------\n",
      "['DejaVu Sans Mono', 'Bitstream Vera Sans Mono', 'Computer Modern Typewriter', 'Andale Mono', 'Nimbus Mono L', 'Courier New', 'Courier', 'Fixed', 'Terminal', 'monospace']\n"
     ]
    }
   ],
   "source": [
    "# serif, sans-serif, monospace\n",
    "print('serif 세리프가 있는 폰트----------')\n",
    "print(plt.rcParams['font.serif'])\n",
    "print('sans-serif 세리프가 없는 폰트--------------')\n",
    "print(plt.rcParams['font.sans-serif'])\n",
    "print('monospace  고정폭 글꼴----------')\n",
    "print(plt.rcParams['font.monospace'])"
   ]
  },
  {
   "cell_type": "code",
   "execution_count": 44,
   "metadata": {},
   "outputs": [],
   "source": [
    "plt.rcParams[\"font.family\"] = 'godoMaum'\n",
    "plt.rcParams[\"font.size\"] = 20\n",
    "plt.rcParams[\"figure.figsize\"] = (14, 4)"
   ]
  },
  {
   "cell_type": "code",
   "execution_count": 45,
   "metadata": {},
   "outputs": [
    {
     "data": {
      "image/png": "[encoded data removed]",
      "text/plain": [
       "<Figure size 1008x288 with 1 Axes>"
      ]
     },
     "metadata": {
      "needs_background": "light"
     },
     "output_type": "display_data"
    }
   ],
   "source": [
    "plt.plot(range(50), data, 'r')\n",
    "plt.title('시간별 가격 추이')\n",
    "plt.ylabel('주식 가격')\n",
    "plt.xlabel('시간(분)')\n",
    "plt.style.use('seaborn-pastel')\n",
    "plt.show()"
   ]
  },
  {
   "cell_type": "markdown",
   "metadata": {},
   "source": [
    "### rcParams 대신 FontProperties 와 plt.rc를 사용하는 방법"
   ]
  },
  {
   "cell_type": "code",
   "execution_count": null,
   "metadata": {},
   "outputs": [],
   "source": [
    "path = ''\n",
    "font_name = fm.FontProperties(fname=path, size=50).get_name()\n",
    "print(font_name)\n",
    "plt.rc('font', family=font_name)\n",
    "\n",
    "fig, ax = plt.subplots()\n",
    "ax.plot(data)\n",
    "plt.title('시간별 가격 추이')\n",
    "plt.ylabel('주식 가격')\n",
    "plt.xlabel('시간(분)')\n",
    "plt.style.use('seaborn-pastel')\n",
    "plt.show()"
   ]
  },
  {
   "cell_type": "markdown",
   "metadata": {},
   "source": [
    "## 3) rcParams를 설정파일에 직접 적어주는 방법 - 모든 노트북에 공통적용"
   ]
  },
  {
   "cell_type": "markdown",
   "metadata": {},
   "source": [
    "  * font.family : NanumGothic.pyplot as plt\n",
    "  * 이 외에 자주 사용하는 설정도 함께 해주면 편리합니다. \n",
    "  * 이곳에 폰트를 지정해 주면 노트북을 실행할 때 바로 로드 되도록 설정할 수 있습니다. "
   ]
  },
  {
   "cell_type": "code",
   "execution_count": 47,
   "metadata": {},
   "outputs": [
    {
     "data": {
      "image/png": "[encoded data removed]",
      "text/plain": [
       "<Figure size 1008x288 with 1 Axes>"
      ]
     },
     "metadata": {
      "needs_background": "light"
     },
     "output_type": "display_data"
    }
   ],
   "source": [
    "# import matplotlib.pyplot as plt\n",
    "# import numpy as np\n",
    "\n",
    "fig , ax = plt.subplots()\n",
    "ax.plot(10*np.random.randn(100), 10*np.random.randn(100), 'o')\n",
    "plt.show()"
   ]
  },
  {
   "cell_type": "code",
   "execution_count": null,
   "metadata": {},
   "outputs": [],
   "source": []
  }
 ],
 "metadata": {
  "kernelspec": {
   "display_name": "Python 3",
   "language": "python",
   "name": "python3"
  },
  "language_info": {
   "codemirror_mode": {
    "name": "ipython",
    "version": 3
   },
   "file_extension": ".py",
   "mimetype": "text/x-python",
   "name": "python",
   "nbconvert_exporter": "python",
   "pygments_lexer": "ipython3",
   "version": "3.7.3"
  }
 },
 "nbformat": 4,
 "nbformat_minor": 2
}
