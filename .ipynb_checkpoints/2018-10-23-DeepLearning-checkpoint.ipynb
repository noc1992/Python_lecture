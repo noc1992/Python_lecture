{
 "cells": [
  {
   "cell_type": "code",
   "execution_count": 3,
   "metadata": {},
   "outputs": [],
   "source": [
    "import numpy as np"
   ]
  },
  {
   "cell_type": "markdown",
   "metadata": {},
   "source": [
    "### Generate datasets"
   ]
  },
  {
   "cell_type": "code",
   "execution_count": 17,
   "metadata": {},
   "outputs": [
    {
     "name": "stdout",
     "output_type": "stream",
     "text": [
      "(100,)\n"
     ]
    },
    {
     "data": {
      "text/plain": [
       "array([0.18313219, 0.73895493, 0.50483253, 0.86348786, 0.12624929,\n",
       "       0.3245654 , 0.15560464, 0.93312958, 0.39739425, 0.10225693])"
      ]
     },
     "execution_count": 17,
     "metadata": {},
     "output_type": "execute_result"
    }
   ],
   "source": [
    "x1 = np.random.uniform(low = 0.0, high = 1.0 , size = 100)\n",
    "\n",
    "print(x1.shape)\n",
    "x1[0:10]"
   ]
  },
  {
   "cell_type": "code",
   "execution_count": 18,
   "metadata": {},
   "outputs": [
    {
     "name": "stdout",
     "output_type": "stream",
     "text": [
      "(100,)\n"
     ]
    },
    {
     "data": {
      "text/plain": [
       "array([0.70030247, 0.78610536, 0.11724359, 0.78546615, 0.64490163,\n",
       "       0.97342431, 0.24505708, 0.63364183, 0.08410265, 0.3509779 ])"
      ]
     },
     "execution_count": 18,
     "metadata": {},
     "output_type": "execute_result"
    }
   ],
   "source": [
    "x2 = np.random.uniform(low = 0.0, high = 1.0 , size = 100)\n",
    "\n",
    "print(x2.shape)\n",
    "x2[0:10]"
   ]
  },
  {
   "cell_type": "code",
   "execution_count": 24,
   "metadata": {},
   "outputs": [
    {
     "name": "stdout",
     "output_type": "stream",
     "text": [
      "(100,)\n"
     ]
    },
    {
     "data": {
      "text/plain": [
       "array([0.50509089, 0.71473916, 0.31007156, 0.75177943, 0.4603256 ,\n",
       "       0.68408178, 0.26920993, 0.69675979, 0.2612696 , 0.30616603])"
      ]
     },
     "execution_count": 24,
     "metadata": {},
     "output_type": "execute_result"
    }
   ],
   "source": [
    "y = 0.3 * x1 + 0.5 * x2 + 0.1\n",
    "\n",
    "print(y.shape)\n",
    "y[0:10]"
   ]
  },
  {
   "cell_type": "markdown",
   "metadata": {},
   "source": [
    "### Random search"
   ]
  },
  {
   "cell_type": "code",
   "execution_count": 25,
   "metadata": {},
   "outputs": [
    {
     "name": "stdout",
     "output_type": "stream",
     "text": [
      " 0 w1 = 0.823162 w2 = -0.626062 b = -0.441116 error = 0.810567\n",
      " 2 w1 = -0.708193 w2 = 0.459384 b = 0.532676 error = 0.225584\n",
      " 5 w1 = -0.492286 w2 = 0.359567 b = 0.605299 error = 0.153891\n",
      "55 w1 = 0.177458 w2 = 0.633554 b = 0.191200 error = 0.114870\n",
      "229 w1 = 0.408264 w2 = 0.401775 b = 0.140617 error = 0.114384\n",
      "277 w1 = 0.054200 w2 = 0.849213 b = 0.011479 error = 0.113025\n",
      "280 w1 = 0.281138 w2 = 0.366519 b = 0.218495 error = 0.094422\n",
      "533 w1 = -0.105988 w2 = 0.477294 b = 0.359102 error = 0.083777\n",
      "----------------------------------------\n",
      "533 w1 = -0.105988 w2 = 0.477294 b = 0.359102 error = 0.083777\n"
     ]
    }
   ],
   "source": [
    "num_epoch = 1000\n",
    "\n",
    "best_error = np.inf\n",
    "best_epoch = None\n",
    "best_w1 = None\n",
    "best_w2 = None\n",
    "best_b = None\n",
    "\n",
    "for epoch in range(num_epoch):\n",
    "    w1 = np.random.uniform(low = -1.0, high = +1.0)\n",
    "    w2 = np.random.uniform(low = -1.0, high = +1.0)\n",
    "    b = np.random.uniform(low = -1.0, high = +1.0)\n",
    "    \n",
    "    y_predict = w1 * x + w2 * x2 + b\n",
    "    \n",
    "    error = np.abs(y_predict - y).mean()\n",
    "    \n",
    "    if error < best_error:\n",
    "        best_error = error\n",
    "        best_epoch = epoch\n",
    "        best_w1 = w1\n",
    "        best_w2 = w2\n",
    "        best_b = b\n",
    "        \n",
    "        print(f\"{epoch:2} w1 = {w1:.6f} w2 = {w2:.6f} b = {b:.6f} error = {error:.6f}\")\n",
    "\n",
    "print(\"----\" * 10)\n",
    "print(f\"{best_epoch:2} w1 = {best_w1:.6f} w2 = {best_w2:.6f} b = {best_b:.6f} error = {best_error:.6f}\")\n"
   ]
  },
  {
   "cell_type": "code",
   "execution_count": 22,
   "metadata": {},
   "outputs": [
    {
     "name": "stdout",
     "output_type": "stream",
     "text": [
      " 0 w1 = -0.011887 w2 = 0.459184 error = 0.173622\n",
      "----------------------------------------\n",
      "99 w1 = -0.011887 w2 = 0.459184 error = 0.173622\n"
     ]
    }
   ],
   "source": [
    "num_epoch = 100\n",
    "h = 0.1\n",
    "\n",
    "w = np.random.uniform(low = -1.0, high = +1.0)\n",
    "\n",
    "for epoch in range(num_epoch):\n",
    "    y_predict = w * x\n",
    "    current_error = np.abs(y_predict - y).mean()\n",
    "    \n",
    "    y_predict = (w + h) * x\n",
    "    h_plus_error = np.abs(y_predict - y).mean()\n",
    "    \n",
    "    \n",
    "    if h_plus_error < current_error:\n",
    "        w = w + h \n",
    "        print(f\"{epoch:2} w = {w:.6f} error = {error:.6f}\")\n",
    "        continue\n",
    "    \n",
    "    y_predict = (w - h) * x\n",
    "    h_minus_error = np.abs(y_predict - y).mean()\n",
    "    \n",
    "    \n",
    "    if h_minus_error < current_error:\n",
    "        w = w - h  \n",
    "        print(f\"{epoch:2} w1 = {w1:.6f} w2 = {w2:.6f} error = {error:.6f}\")\n",
    "        continue\n",
    "        \n",
    "print(\"----\" * 10)\n",
    "print(f\"{epoch:2} w1 = {w1:.6f} w2 = {w2:.6f} error = {error:.6f}\")\n"
   ]
  },
  {
   "cell_type": "markdown",
   "metadata": {},
   "source": [
    "### Gradiant decent"
   ]
  },
  {
   "cell_type": "code",
   "execution_count": 30,
   "metadata": {},
   "outputs": [
    {
     "name": "stdout",
     "output_type": "stream",
     "text": [
      " 0 w1 = 0.328717 w2 = 0.095190 b = -0.277362 error = 0.698520\n",
      "10 w1 = 0.365576 w2 = 0.406507 b = 0.049947 error = 0.078622\n",
      "20 w1 = 0.333185 w2 = 0.474366 b = 0.088826 error = 0.013053\n",
      "----------------------------------------\n",
      "29 w1 = 0.317479 w2 = 0.490720 b = 0.094499 error = 0.004542\n"
     ]
    }
   ],
   "source": [
    "num_epoch = 100\n",
    "learning_rate = 1.2\n",
    "\n",
    "w1 = np.random.uniform(low = -1.0, high = +1.0)\n",
    "w2 = np.random.uniform(low = -1.0, high = +1.0)\n",
    "b = np.random.uniform(low = -1.0, high = +1.0)\n",
    "\n",
    "for epoch in range(num_epoch):\n",
    "    y_predict = w1 * x1 + w2 * x2 + b\n",
    "     \n",
    "    error = np.abs(y_predict - y).mean()\n",
    "    if error < 0.005:\n",
    "        break\n",
    "        \n",
    "    w1 = w1 - learning_rate * ((y_predict - y) * x1).mean()\n",
    "    w2 = w2 - learning_rate * ((y_predict - y) * x2).mean()\n",
    "    b = b - learning_rate * (y_predict - y).mean()\n",
    "      \n",
    "    if epoch % 10 == 0:\n",
    "        print(f\"{epoch:2} w1 = {w1:.6f} w2 = {w2:.6f} b = {b:.6f} error = {error:.6f}\")\n",
    "        \n",
    "print(\"----\" * 10)\n",
    "print(f\"{epoch:2} w1 = {w1:.6f} w2 = {w2:.6f} b = {b:.6f} error = {error:.6f}\")"
   ]
  },
  {
   "cell_type": "code",
   "execution_count": null,
   "metadata": {},
   "outputs": [],
   "source": []
  },
  {
   "cell_type": "code",
   "execution_count": null,
   "metadata": {},
   "outputs": [],
   "source": []
  },
  {
   "cell_type": "code",
   "execution_count": null,
   "metadata": {},
   "outputs": [],
   "source": []
  },
  {
   "cell_type": "code",
   "execution_count": null,
   "metadata": {},
   "outputs": [],
   "source": []
  }
 ],
 "metadata": {
  "kernelspec": {
   "display_name": "Python 3",
   "language": "python",
   "name": "python3"
  },
  "language_info": {
   "codemirror_mode": {
    "name": "ipython",
    "version": 3
   },
   "file_extension": ".py",
   "mimetype": "text/x-python",
   "name": "python",
   "nbconvert_exporter": "python",
   "pygments_lexer": "ipython3",
   "version": "3.6.6"
  }
 },
 "nbformat": 4,
 "nbformat_minor": 2
}
