{
 "cells": [
  {
   "cell_type": "markdown",
   "metadata": {},
   "source": [
    "[프로그래밍 예제 01]\n",
    "\n",
    "임의의 실수 X를 입력 받아 방정식 Y =\n",
    " \n",
    "\n",
    "\n",
    "(X -1)(X - 3)2 (X - 5)3 를 계산하여 출력하\n",
    " \n",
    "\n",
    " \n",
    "는 프로그램을 작성하시오.\n",
    "\n"
   ]
  },
  {
   "cell_type": "code",
   "execution_count": 15,
   "metadata": {},
   "outputs": [],
   "source": [
    "def func1(x):\n",
    "    y = (x-1) * ((x-3)**2) * ((x-5)**3)\n",
    "    return y"
   ]
  },
  {
   "cell_type": "code",
   "execution_count": 17,
   "metadata": {},
   "outputs": [
    {
     "data": {
      "text/plain": [
       "4725"
      ]
     },
     "execution_count": 17,
     "metadata": {},
     "output_type": "execute_result"
    }
   ],
   "source": [
    "func1(8)"
   ]
  },
  {
   "cell_type": "markdown",
   "metadata": {},
   "source": [
    "[프로그래밍 예제 02]\n",
    "\n",
    "실수 X와 Y를 입력 받아 5 ≤ log10 ( X y ) ≤ 10을 만족하는지 아닌지를 판별하는 프로\n",
    "\n",
    "그램을 작성하시오.\n"
   ]
  },
  {
   "cell_type": "code",
   "execution_count": 23,
   "metadata": {},
   "outputs": [],
   "source": [
    "import math as m\n",
    "def func2(x, y):\n",
    "    return bool(5 <= m.log(x**y) <= 10)    "
   ]
  },
  {
   "cell_type": "code",
   "execution_count": 25,
   "metadata": {},
   "outputs": [
    {
     "data": {
      "text/plain": [
       "False"
      ]
     },
     "execution_count": 25,
     "metadata": {},
     "output_type": "execute_result"
    }
   ],
   "source": [
    "func2(3, 2)"
   ]
  },
  {
   "cell_type": "markdown",
   "metadata": {},
   "source": [
    "[프로그래밍 예제 03]\n",
    " \n",
    "\n",
    " \n",
    "양의 정수 n과 m을 입력 받아 nCm \n",
    " \n",
    "n  (n 1)  (n  m  1)\n",
    "m  (m 1) 1\n",
    " \n",
    "을 계산하여 출력하는 \n"
   ]
  },
  {
   "cell_type": "code",
   "execution_count": 42,
   "metadata": {},
   "outputs": [],
   "source": [
    "def fac_func(n):\n",
    "    result = 1\n",
    "    for i in range(1, n+1):\n",
    "        result *= i\n",
    "    return result\n",
    "\n",
    "def com_func(x, y):\n",
    "    return int(fac_func(x) / (fac_func(x-y) * fac_func(y)))\n"
   ]
  },
  {
   "cell_type": "code",
   "execution_count": 43,
   "metadata": {},
   "outputs": [
    {
     "data": {
      "text/plain": [
       "3"
      ]
     },
     "execution_count": 43,
     "metadata": {},
     "output_type": "execute_result"
    }
   ],
   "source": [
    "com_func(3, 2)"
   ]
  },
  {
   "cell_type": "markdown",
   "metadata": {},
   "source": [
    "[프로그래밍 예제 04]\n",
    "\n",
    "임의의 정수 N을 입력 받아 다음과 같이 출력하는 프로그램을 작성하시오.\n",
    "\n",
    "1223334444...NN...\n"
   ]
  },
  {
   "cell_type": "code",
   "execution_count": 90,
   "metadata": {},
   "outputs": [],
   "source": [
    "def func3(x):\n",
    "    for i in range(1, x+1):\n",
    "        print(str(i) * i, end='')\n",
    "        "
   ]
  },
  {
   "cell_type": "code",
   "execution_count": 91,
   "metadata": {},
   "outputs": [
    {
     "name": "stdout",
     "output_type": "stream",
     "text": [
      "1223334444"
     ]
    }
   ],
   "source": [
    "func3(4)"
   ]
  },
  {
   "cell_type": "code",
   "execution_count": null,
   "metadata": {},
   "outputs": [],
   "source": []
  }
 ],
 "metadata": {
  "kernelspec": {
   "display_name": "Python 3",
   "language": "python",
   "name": "python3"
  },
  "language_info": {
   "codemirror_mode": {
    "name": "ipython",
    "version": 3
   },
   "file_extension": ".py",
   "mimetype": "text/x-python",
   "name": "python",
   "nbconvert_exporter": "python",
   "pygments_lexer": "ipython3",
   "version": "3.6.8"
  }
 },
 "nbformat": 4,
 "nbformat_minor": 2
}
