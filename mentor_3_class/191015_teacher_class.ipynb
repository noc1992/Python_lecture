{
 "cells": [
  {
   "cell_type": "code",
   "execution_count": 1,
   "metadata": {},
   "outputs": [],
   "source": [
    "import nltk\n",
    "from nltk.tokenize import word_tokenize"
   ]
  },
  {
   "cell_type": "code",
   "execution_count": 2,
   "metadata": {},
   "outputs": [],
   "source": [
    "from nltk.tokenize import WordPunctTokenizer"
   ]
  },
  {
   "cell_type": "code",
   "execution_count": 3,
   "metadata": {},
   "outputs": [
    {
     "name": "stdout",
     "output_type": "stream",
     "text": [
      "['Do', 'not', 'go', 'gentle', 'into', 'that', 'good', 'night']\n"
     ]
    }
   ],
   "source": [
    "print(word_tokenize(\"Do not go gentle into that good night \"))"
   ]
  },
  {
   "cell_type": "code",
   "execution_count": 4,
   "metadata": {},
   "outputs": [
    {
     "name": "stdout",
     "output_type": "stream",
     "text": [
      "['rage', 'rage', 'against', 'dying', 'of', 'the', 'light']\n"
     ]
    }
   ],
   "source": [
    "from keras.preprocessing.text import text_to_word_sequence\n",
    "print(text_to_word_sequence(\"Rage, Rage against dying of the lighT.\"))"
   ]
  },
  {
   "cell_type": "code",
   "execution_count": 6,
   "metadata": {},
   "outputs": [
    {
     "data": {
      "text/plain": [
       "['Do',\n",
       " 'not',\n",
       " 'go',\n",
       " 'gentle',\n",
       " 'into',\n",
       " 'that',\n",
       " 'good-night',\n",
       " ',',\n",
       " 'Old',\n",
       " 'age',\n",
       " 'should',\n",
       " 'burn',\n",
       " 'and',\n",
       " 'rave',\n",
       " 'at',\n",
       " 'close',\n",
       " 'of',\n",
       " 'day',\n",
       " ';',\n",
       " 'Rage',\n",
       " ',',\n",
       " 'rage',\n",
       " 'against',\n",
       " 'the',\n",
       " 'dying',\n",
       " 'of',\n",
       " 'the',\n",
       " 'light.',\n",
       " 'Though',\n",
       " 'wise',\n",
       " 'men',\n",
       " 'at',\n",
       " 'their',\n",
       " 'end',\n",
       " 'know',\n",
       " 'dark',\n",
       " 'is',\n",
       " 'right',\n",
       " ',',\n",
       " 'Because',\n",
       " 'their',\n",
       " 'words',\n",
       " 'had',\n",
       " 'forked',\n",
       " 'no',\n",
       " 'lightning',\n",
       " 'they',\n",
       " 'Do',\n",
       " 'not',\n",
       " 'go',\n",
       " 'gentle',\n",
       " 'into',\n",
       " 'that',\n",
       " 'good',\n",
       " 'night.',\n",
       " 'Good',\n",
       " 'men',\n",
       " ',',\n",
       " 'the',\n",
       " 'last',\n",
       " 'wave',\n",
       " 'by',\n",
       " ',',\n",
       " 'crying',\n",
       " 'how',\n",
       " 'bright',\n",
       " 'Their',\n",
       " 'frail',\n",
       " 'deeds',\n",
       " 'might',\n",
       " 'have',\n",
       " 'danced',\n",
       " 'in',\n",
       " 'a',\n",
       " 'green',\n",
       " 'bay',\n",
       " ',',\n",
       " 'Rage',\n",
       " ',',\n",
       " 'rage',\n",
       " 'against',\n",
       " 'the',\n",
       " 'dying',\n",
       " 'of',\n",
       " 'the',\n",
       " 'light.',\n",
       " 'Wild',\n",
       " 'men',\n",
       " 'who',\n",
       " 'caught',\n",
       " 'and',\n",
       " 'sang',\n",
       " 'the',\n",
       " 'sun',\n",
       " 'in',\n",
       " 'flight',\n",
       " ',',\n",
       " 'And',\n",
       " 'learn',\n",
       " ',',\n",
       " 'too',\n",
       " 'late',\n",
       " ',',\n",
       " 'they',\n",
       " 'grieved',\n",
       " 'it',\n",
       " 'on',\n",
       " 'its',\n",
       " 'way',\n",
       " ',',\n",
       " 'Do',\n",
       " 'not',\n",
       " 'go',\n",
       " 'gentle',\n",
       " 'into',\n",
       " 'that',\n",
       " 'good',\n",
       " 'night.',\n",
       " 'Grave',\n",
       " 'men',\n",
       " ',',\n",
       " 'near',\n",
       " 'death',\n",
       " ',',\n",
       " 'who',\n",
       " 'see',\n",
       " 'with',\n",
       " 'blinding',\n",
       " 'sight',\n",
       " 'Blind',\n",
       " 'eyes',\n",
       " 'could',\n",
       " 'blaze',\n",
       " 'like',\n",
       " 'meteors',\n",
       " 'and',\n",
       " 'be',\n",
       " 'gay',\n",
       " ',',\n",
       " 'Rage',\n",
       " ',',\n",
       " 'rage',\n",
       " 'against',\n",
       " 'the',\n",
       " 'dying',\n",
       " 'of',\n",
       " 'the',\n",
       " 'light.',\n",
       " 'And',\n",
       " 'you',\n",
       " ',',\n",
       " 'my',\n",
       " 'father',\n",
       " ',',\n",
       " 'there',\n",
       " 'on',\n",
       " 'the',\n",
       " 'sad',\n",
       " 'height',\n",
       " ',',\n",
       " 'Curse',\n",
       " ',',\n",
       " 'bless',\n",
       " ',',\n",
       " 'me',\n",
       " 'now',\n",
       " 'with',\n",
       " 'your',\n",
       " 'fierce',\n",
       " 'tears',\n",
       " ',',\n",
       " 'I',\n",
       " 'pray.',\n",
       " 'Do',\n",
       " 'not',\n",
       " 'go',\n",
       " 'gentle',\n",
       " 'into',\n",
       " 'that',\n",
       " 'good',\n",
       " 'night.',\n",
       " 'Rage',\n",
       " ',',\n",
       " 'rage',\n",
       " 'against',\n",
       " 'the',\n",
       " 'dying',\n",
       " 'of',\n",
       " 'the',\n",
       " 'light',\n",
       " '.']"
      ]
     },
     "execution_count": 6,
     "metadata": {},
     "output_type": "execute_result"
    }
   ],
   "source": [
    "from nltk.tokenize import TreebankWordTokenizer\n",
    "tokenizer = TreebankWordTokenizer()\n",
    "text = \"\"\"Do not go gentle into that good-night,\n",
    "Old age should burn and rave at close of day;\n",
    "Rage, rage against the dying of the light.\n",
    "\n",
    "Though wise men at their end know dark is right,\n",
    "Because their words had forked no lightning they\n",
    "Do not go gentle into that good night.\n",
    "\n",
    "Good men, the last wave by, crying how bright\n",
    "Their frail deeds might have danced in a green bay,\n",
    "Rage, rage against the dying of the light.\n",
    "\n",
    "Wild men who caught and sang the sun in flight,\n",
    "And learn, too late, they grieved it on its way,\n",
    "Do not go gentle into that good night.\n",
    "\n",
    "Grave men, near death, who see with blinding sight\n",
    "Blind eyes could blaze like meteors and be gay,\n",
    "Rage, rage against the dying of the light.\n",
    "\n",
    "And you, my father, there on the sad height,\n",
    "Curse, bless, me now with your fierce tears, I pray.\n",
    "Do not go gentle into that good night.\n",
    "Rage, rage against the dying of the light.\"\"\"\n",
    "tokenizer.tokenize(text)"
   ]
  },
  {
   "cell_type": "code",
   "execution_count": 8,
   "metadata": {},
   "outputs": [
    {
     "name": "stdout",
     "output_type": "stream",
     "text": [
      "['Do not go gentle into that good-night,\\nOld age should burn and rave at close of day;\\nRage, rage against the dying of the light.', 'Though wise men at their end know dark is right,\\nBecause their words had forked no lightning they\\nDo not go gentle into that good night.', 'Good men, the last wave by, crying how bright\\nTheir frail deeds might have danced in a green bay,\\nRage, rage against the dying of the light.', 'Wild men who caught and sang the sun in flight,\\nAnd learn, too late, they grieved it on its way,\\nDo not go gentle into that good night.', 'Grave men, near death, who see with blinding sight\\nBlind eyes could blaze like meteors and be gay,\\nRage, rage against the dying of the light.', 'And you, my father, there on the sad height,\\nCurse, bless, me now with your fierce tears, I pray.', 'Do not go gentle into that good night.', 'Rage, rage against the dying of the light.']\n"
     ]
    }
   ],
   "source": [
    "from nltk.tokenize import sent_tokenize\n",
    "text = \"\"\"Do not go gentle into that good-night,\n",
    "Old age should burn and rave at close of day;\n",
    "Rage, rage against the dying of the light.\n",
    "\n",
    "Though wise men at their end know dark is right,\n",
    "Because their words had forked no lightning they\n",
    "Do not go gentle into that good night.\n",
    "\n",
    "Good men, the last wave by, crying how bright\n",
    "Their frail deeds might have danced in a green bay,\n",
    "Rage, rage against the dying of the light.\n",
    "\n",
    "Wild men who caught and sang the sun in flight,\n",
    "And learn, too late, they grieved it on its way,\n",
    "Do not go gentle into that good night.\n",
    "\n",
    "Grave men, near death, who see with blinding sight\n",
    "Blind eyes could blaze like meteors and be gay,\n",
    "Rage, rage against the dying of the light.\n",
    "\n",
    "And you, my father, there on the sad height,\n",
    "Curse, bless, me now with your fierce tears, I pray.\n",
    "Do not go gentle into that good night.\n",
    "Rage, rage against the dying of the light.\"\"\"\n",
    "print(sent_tokenize(text))"
   ]
  },
  {
   "cell_type": "code",
   "execution_count": 12,
   "metadata": {},
   "outputs": [
    {
     "name": "stderr",
     "output_type": "stream",
     "text": [
      "C:\\ProgramData\\Anaconda3\\envs\\[tf]\\lib\\site-packages\\jpype\\_core.py:210: UserWarning: \n",
      "-------------------------------------------------------------------------------\n",
      "Deprecated: convertStrings was not specified when starting the JVM. The default\n",
      "behavior in JPype will be False starting in JPype 0.8. The recommended setting\n",
      "for new code is convertStrings=False.  The legacy value of True was assumed for\n",
      "this session. If you are a user of an application that reported this warning,\n",
      "please file a ticket with the developer.\n",
      "-------------------------------------------------------------------------------\n",
      "\n",
      "  \"\"\")\n"
     ]
    },
    {
     "name": "stdout",
     "output_type": "stream",
     "text": [
      "['열심히', '코딩', '한', '당신', ',', '연휴', '에는', '여행', '을', '가봐요']\n"
     ]
    }
   ],
   "source": [
    "from konlpy.tag import Okt\n",
    "okt=Okt() \n",
    "print(okt.morphs(\"열심히 코딩한 당신, 연휴에는 여행을 가봐요\"))"
   ]
  },
  {
   "cell_type": "code",
   "execution_count": 15,
   "metadata": {},
   "outputs": [
    {
     "name": "stdout",
     "output_type": "stream",
     "text": [
      "['열심히', '코딩', '하', 'ㄴ', '당신', ',', '연휴', '에', '는', '여행', '을', '가보', '아요']\n"
     ]
    }
   ],
   "source": [
    "from konlpy.tag import Kkma\n",
    "kkma=Kkma()\n",
    "print(kkma.morphs(\"열심히 코딩한 당신, 연휴에는 여행을 가봐요\"))\n",
    "word = '열심히 코딩한 당신, 연휴에는 여행을 가봐요'"
   ]
  },
  {
   "cell_type": "code",
   "execution_count": 16,
   "metadata": {},
   "outputs": [
    {
     "name": "stdout",
     "output_type": "stream",
     "text": [
      "[('열심히', 'MAG'), ('코딩', 'NNG'), ('하', 'XSV'), ('ㄴ', 'ETD'), ('당신', 'NP'), (',', 'SP'), ('연휴', 'NNG'), ('에', 'JKM'), ('는', 'JX'), ('여행', 'NNG'), ('을', 'JKO'), ('가보', 'VV'), ('아요', 'EFN')]\n"
     ]
    }
   ],
   "source": [
    "print(kkma.pos(word))"
   ]
  },
  {
   "cell_type": "code",
   "execution_count": 17,
   "metadata": {},
   "outputs": [],
   "source": [
    "import warnings"
   ]
  },
  {
   "cell_type": "code",
   "execution_count": 18,
   "metadata": {},
   "outputs": [],
   "source": [
    "warnings.simplefilter('ignore')"
   ]
  },
  {
   "cell_type": "code",
   "execution_count": 19,
   "metadata": {},
   "outputs": [
    {
     "data": {
      "text/plain": [
       "'0.5.1'"
      ]
     },
     "execution_count": 19,
     "metadata": {},
     "output_type": "execute_result"
    }
   ],
   "source": [
    "import konlpy\n",
    "konlpy.__version__"
   ]
  },
  {
   "cell_type": "code",
   "execution_count": 20,
   "metadata": {},
   "outputs": [
    {
     "data": {
      "text/plain": [
       "['constitution.txt']"
      ]
     },
     "execution_count": 20,
     "metadata": {},
     "output_type": "execute_result"
    }
   ],
   "source": [
    "from konlpy.corpus import kolaw\n",
    "kolaw.fileids()"
   ]
  },
  {
   "cell_type": "code",
   "execution_count": 29,
   "metadata": {},
   "outputs": [
    {
     "name": "stdout",
     "output_type": "stream",
     "text": [
      "대한민국헌법\n",
      "\n",
      "유구한 역사와 전통에 빛나는 우리 대한국민은 3·1운동으로\n"
     ]
    }
   ],
   "source": [
    "a = kolaw.open('constitution.txt').read()\n",
    "print(a[:40])"
   ]
  },
  {
   "cell_type": "code",
   "execution_count": 23,
   "metadata": {},
   "outputs": [
    {
     "data": {
      "text/plain": [
       "['1809890.txt',\n",
       " '1809891.txt',\n",
       " '1809892.txt',\n",
       " '1809893.txt',\n",
       " '1809894.txt',\n",
       " '1809895.txt',\n",
       " '1809896.txt',\n",
       " '1809897.txt',\n",
       " '1809898.txt',\n",
       " '1809899.txt']"
      ]
     },
     "execution_count": 23,
     "metadata": {},
     "output_type": "execute_result"
    }
   ],
   "source": [
    "from konlpy.corpus import kobill\n",
    "kobill.fileids()"
   ]
  },
  {
   "cell_type": "code",
   "execution_count": 25,
   "metadata": {},
   "outputs": [
    {
     "name": "stdout",
     "output_type": "stream",
     "text": [
      "남녀고용평등과 일 ·가정 양립 지원에 관한 법률 \n",
      "\n",
      "일부개정법률안\n",
      "\n",
      "(정\n"
     ]
    }
   ],
   "source": [
    "b = kobill.open('1809893.txt').read()\n",
    "print(b[:40])"
   ]
  },
  {
   "cell_type": "code",
   "execution_count": 27,
   "metadata": {},
   "outputs": [],
   "source": [
    "from konlpy.tag import *\n",
    "hannanum = Hannanum()\n",
    "kkma = Kkma()\n",
    "komoran = Komoran()\n",
    "# mecab = Mecab()\n",
    "okt = Okt()"
   ]
  },
  {
   "cell_type": "code",
   "execution_count": 31,
   "metadata": {},
   "outputs": [
    {
     "data": {
      "text/plain": [
       "[]"
      ]
     },
     "execution_count": 31,
     "metadata": {},
     "output_type": "execute_result"
    }
   ],
   "source": [
    "hannanum.nouns(b[:40])"
   ]
  },
  {
   "cell_type": "code",
   "execution_count": 32,
   "metadata": {},
   "outputs": [
    {
     "data": {
      "text/plain": [
       "['남녀',\n",
       " '남녀고용평등',\n",
       " '고용',\n",
       " '평등',\n",
       " '일',\n",
       " '가정',\n",
       " '양립',\n",
       " '지원',\n",
       " '법률',\n",
       " '일부',\n",
       " '일부개정법률안',\n",
       " '개정',\n",
       " '법률안',\n",
       " '정']"
      ]
     },
     "execution_count": 32,
     "metadata": {},
     "output_type": "execute_result"
    }
   ],
   "source": [
    "kkma.nouns(b[:40])"
   ]
  },
  {
   "cell_type": "code",
   "execution_count": null,
   "metadata": {},
   "outputs": [],
   "source": []
  }
 ],
 "metadata": {
  "kernelspec": {
   "display_name": "Python 3",
   "language": "python",
   "name": "python3"
  },
  "language_info": {
   "codemirror_mode": {
    "name": "ipython",
    "version": 3
   },
   "file_extension": ".py",
   "mimetype": "text/x-python",
   "name": "python",
   "nbconvert_exporter": "python",
   "pygments_lexer": "ipython3",
   "version": "3.6.8"
  }
 },
 "nbformat": 4,
 "nbformat_minor": 2
}
