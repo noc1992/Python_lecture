{
 "cells": [
  {
   "cell_type": "markdown",
   "metadata": {},
   "source": [
    "# SQLite3\n",
    "## 1. 개요\n",
    "#### 1.1 경량 DBMS\n",
    "- 별도의 서버가 필요 없음\n",
    "- 모바일 기기에서 많이 활용되고 있음\n",
    "- 파이썬3에 기본 내장되어 있음\n",
    "- 파일 또는 메모리에 DB 생성\n",
    "- 참고자료: SQLite로 가볍게 배우는 데이터베이스 (WikiDocs)\n",
    "\n",
    "#### 1.2 데이터 타입\n",
    "- 동적 데이터 타입\n",
    "- Null, Integer, Real, Text, Blob 유형이 있음 (Boolean, Date, Time 없음)\n",
    "- 다른 유형 데이터를 삽입해도 컬럼에 맞게 알아서 들어감.\n",
    "- 다른 DB에서 사용하는 데이터유형 이름 그대로 사용해도 무방\n",
    "\n",
    "#### 1.3 DBMS 관리 툴\n",
    "- [SQLite Expert](http://www.sqliteexpert.com/download.html)\n",
    "- Personal version은 freeware 이므로 사용할 수 있음"
   ]
  },
  {
   "cell_type": "markdown",
   "metadata": {},
   "source": [
    "## 2. 파이썬에서 사용하는 방법"
   ]
  },
  {
   "cell_type": "code",
   "execution_count": 75,
   "metadata": {},
   "outputs": [],
   "source": [
    "import sqlite3"
   ]
  },
  {
   "cell_type": "markdown",
   "metadata": {},
   "source": [
    "- **데이터베이스 접속**"
   ]
  },
  {
   "cell_type": "code",
   "execution_count": 76,
   "metadata": {},
   "outputs": [
    {
     "data": {
      "text/plain": [
       "\"\\nconn = sqlite3.connect(':memory:')    # 메모리 DB 접속(일회성)\\n\""
      ]
     },
     "execution_count": 76,
     "metadata": {},
     "output_type": "execute_result"
    }
   ],
   "source": [
    "conn = sqlite3.connect('./test.db') \n",
    "'''\n",
    "conn = sqlite3.connect(':memory:')    # 메모리 DB 접속(일회성)\n",
    "'''"
   ]
  },
  {
   "cell_type": "markdown",
   "metadata": {},
   "source": [
    "- **테이블 생성**"
   ]
  },
  {
   "cell_type": "code",
   "execution_count": 12,
   "metadata": {},
   "outputs": [
    {
     "data": {
      "text/plain": [
       "<sqlite3.Cursor at 0x592fb20>"
      ]
     },
     "execution_count": 12,
     "metadata": {},
     "output_type": "execute_result"
    }
   ],
   "source": [
    "cur = conn.cursor()\n",
    "cur.execute('CREATE TABLE IF NOT EXISTS Eagles \\\n",
    "    (back_no INT NOT NULL, \\\n",
    "     name TEXT, \\\n",
    "     position TEXT, \\\n",
    "     hands TEXT, \\\n",
    "     highschool TEXT, \\\n",
    "     height INT, \\\n",
    "     PRIMARY KEY(back_no));')\n"
   ]
  },
  {
   "cell_type": "markdown",
   "metadata": {},
   "source": [
    "- **테이블 삭제**"
   ]
  },
  {
   "cell_type": "code",
   "execution_count": 8,
   "metadata": {},
   "outputs": [
    {
     "data": {
      "text/plain": [
       "<sqlite3.Cursor at 0x592f030>"
      ]
     },
     "execution_count": 8,
     "metadata": {},
     "output_type": "execute_result"
    }
   ],
   "source": [
    "cur.execute('DROP TABLE Eagles')"
   ]
  },
  {
   "cell_type": "markdown",
   "metadata": {},
   "source": [
    "- **데이터 삽입(Insert)**\n",
    "- INSERT INTO Table (field1, f2, ..., fn) VALUES (value1, v2, ..., vn);"
   ]
  },
  {
   "cell_type": "code",
   "execution_count": 13,
   "metadata": {},
   "outputs": [
    {
     "data": {
      "text/plain": [
       "<sqlite3.Cursor at 0x592fab0>"
      ]
     },
     "execution_count": 13,
     "metadata": {},
     "output_type": "execute_result"
    }
   ],
   "source": [
    "cur = conn.cursor()\n",
    "cur.execute(\"INSERT INTO Eagles('back_no', 'name', 'position') \\\n",
    "             VALUES (30, '호잉', '외야수');\")"
   ]
  },
  {
   "cell_type": "markdown",
   "metadata": {},
   "source": [
    "- **변경사항 저장**"
   ]
  },
  {
   "cell_type": "code",
   "execution_count": 14,
   "metadata": {},
   "outputs": [],
   "source": [
    "conn.commit()"
   ]
  },
  {
   "cell_type": "markdown",
   "metadata": {},
   "source": [
    "- 모든 필드를 삽입할 경우에는 필드명 생략 가능\n",
    "- 튜플의 리스트 형태로 한꺼번에 여러 데이터를 입력할 수 있음"
   ]
  },
  {
   "cell_type": "code",
   "execution_count": 15,
   "metadata": {},
   "outputs": [
    {
     "data": {
      "text/plain": [
       "<sqlite3.Cursor at 0x592ff10>"
      ]
     },
     "execution_count": 15,
     "metadata": {},
     "output_type": "execute_result"
    }
   ],
   "source": [
    "cur = conn.cursor()\n",
    "cur.execute(\"INSERT INTO Eagles VALUES \\\n",
    "    (1, '하주석', '내야수', '우투좌타', '신일고', 184), \\\n",
    "    (28, '양성우', '외야수', '우투좌타', '충암고', 177);\")"
   ]
  },
  {
   "cell_type": "code",
   "execution_count": 16,
   "metadata": {},
   "outputs": [],
   "source": [
    "conn.commit()"
   ]
  },
  {
   "cell_type": "markdown",
   "metadata": {},
   "source": [
    "- **파일에서 읽어서 데이터베이스에 쓰기**"
   ]
  },
  {
   "cell_type": "code",
   "execution_count": 17,
   "metadata": {},
   "outputs": [
    {
     "data": {
      "text/html": [
       "<div>\n",
       "<style scoped>\n",
       "    .dataframe tbody tr th:only-of-type {\n",
       "        vertical-align: middle;\n",
       "    }\n",
       "\n",
       "    .dataframe tbody tr th {\n",
       "        vertical-align: top;\n",
       "    }\n",
       "\n",
       "    .dataframe thead th {\n",
       "        text-align: right;\n",
       "    }\n",
       "</style>\n",
       "<table border=\"1\" class=\"dataframe\">\n",
       "  <thead>\n",
       "    <tr style=\"text-align: right;\">\n",
       "      <th></th>\n",
       "      <th>back_no</th>\n",
       "      <th>name</th>\n",
       "      <th>position</th>\n",
       "      <th>hands</th>\n",
       "      <th>highschool</th>\n",
       "      <th>height</th>\n",
       "    </tr>\n",
       "  </thead>\n",
       "  <tbody>\n",
       "    <tr>\n",
       "      <th>0</th>\n",
       "      <td>17</td>\n",
       "      <td>김범수</td>\n",
       "      <td>투수</td>\n",
       "      <td>좌투좌타</td>\n",
       "      <td>천안북일고</td>\n",
       "      <td>181</td>\n",
       "    </tr>\n",
       "    <tr>\n",
       "      <th>1</th>\n",
       "      <td>38</td>\n",
       "      <td>안영명</td>\n",
       "      <td>투수</td>\n",
       "      <td>우투우타</td>\n",
       "      <td>천안북일고</td>\n",
       "      <td>183</td>\n",
       "    </tr>\n",
       "    <tr>\n",
       "      <th>2</th>\n",
       "      <td>36</td>\n",
       "      <td>장민재</td>\n",
       "      <td>투수</td>\n",
       "      <td>우투우타</td>\n",
       "      <td>광주제일고</td>\n",
       "      <td>184</td>\n",
       "    </tr>\n",
       "    <tr>\n",
       "      <th>3</th>\n",
       "      <td>13</td>\n",
       "      <td>최재훈</td>\n",
       "      <td>포수</td>\n",
       "      <td>우투우타</td>\n",
       "      <td>덕수고</td>\n",
       "      <td>178</td>\n",
       "    </tr>\n",
       "    <tr>\n",
       "      <th>4</th>\n",
       "      <td>52</td>\n",
       "      <td>김태균</td>\n",
       "      <td>내야수</td>\n",
       "      <td>우투우타</td>\n",
       "      <td>천안북일고</td>\n",
       "      <td>185</td>\n",
       "    </tr>\n",
       "    <tr>\n",
       "      <th>5</th>\n",
       "      <td>7</td>\n",
       "      <td>송광민</td>\n",
       "      <td>내야수</td>\n",
       "      <td>우투우타</td>\n",
       "      <td>공주고</td>\n",
       "      <td>184</td>\n",
       "    </tr>\n",
       "    <tr>\n",
       "      <th>6</th>\n",
       "      <td>50</td>\n",
       "      <td>이성열</td>\n",
       "      <td>내야수</td>\n",
       "      <td>우투좌타</td>\n",
       "      <td>순천효천고</td>\n",
       "      <td>185</td>\n",
       "    </tr>\n",
       "    <tr>\n",
       "      <th>7</th>\n",
       "      <td>43</td>\n",
       "      <td>정은원</td>\n",
       "      <td>내야수</td>\n",
       "      <td>우투좌타</td>\n",
       "      <td>인천고</td>\n",
       "      <td>177</td>\n",
       "    </tr>\n",
       "    <tr>\n",
       "      <th>8</th>\n",
       "      <td>8</td>\n",
       "      <td>정근우</td>\n",
       "      <td>외야수</td>\n",
       "      <td>우투우타</td>\n",
       "      <td>부산고</td>\n",
       "      <td>172</td>\n",
       "    </tr>\n",
       "    <tr>\n",
       "      <th>9</th>\n",
       "      <td>25</td>\n",
       "      <td>최진행</td>\n",
       "      <td>외야수</td>\n",
       "      <td>우투우타</td>\n",
       "      <td>덕수정보고</td>\n",
       "      <td>188</td>\n",
       "    </tr>\n",
       "  </tbody>\n",
       "</table>\n",
       "</div>"
      ],
      "text/plain": [
       "   back_no name position hands highschool  height\n",
       "0       17  김범수       투수  좌투좌타      천안북일고     181\n",
       "1       38  안영명       투수  우투우타      천안북일고     183\n",
       "2       36  장민재       투수  우투우타      광주제일고     184\n",
       "3       13  최재훈       포수  우투우타        덕수고     178\n",
       "4       52  김태균      내야수  우투우타      천안북일고     185\n",
       "5        7  송광민      내야수  우투우타        공주고     184\n",
       "6       50  이성열      내야수  우투좌타      순천효천고     185\n",
       "7       43  정은원      내야수  우투좌타        인천고     177\n",
       "8        8  정근우      외야수  우투우타        부산고     172\n",
       "9       25  최진행      외야수  우투우타      덕수정보고     188"
      ]
     },
     "execution_count": 17,
     "metadata": {},
     "output_type": "execute_result"
    }
   ],
   "source": [
    "import pandas as pd\n",
    "players = pd.read_csv('./players.csv', encoding='EUC-KR')\n",
    "players"
   ]
  },
  {
   "cell_type": "code",
   "execution_count": 18,
   "metadata": {},
   "outputs": [],
   "source": [
    "cur = conn.cursor()\n",
    "sql = 'INSERT INTO Eagles VALUES (?, ?, ?, ?, ?, ?);'\n",
    "for i in range(10):\n",
    "    cur.execute(sql, (int(players.iloc[i,0]), \n",
    "                      players.iloc[i,1], players.iloc[i,2], \n",
    "                      players.iloc[i,3], players.iloc[i,4], \n",
    "                      int(players.iloc[i,5])))\n",
    "conn.commit()"
   ]
  },
  {
   "cell_type": "markdown",
   "metadata": {},
   "source": [
    "- **데이터 조회**\n",
    "- SELECT field1, f2, ..., fn [또는 \\*] FROM table <br>\n",
    "    WHERE 조건<br>\n",
    "    ORDER BY field [DESC]<br>\n",
    "    GROUP BY field<br>\n",
    "    LIMIT 숫자"
   ]
  },
  {
   "cell_type": "code",
   "execution_count": 21,
   "metadata": {},
   "outputs": [
    {
     "name": "stdout",
     "output_type": "stream",
     "text": [
      "(30, '호잉', '외야수', None, None, None)\n",
      "(1, '하주석', '내야수', '우투좌타', '신일고', 184)\n",
      "(28, '양성우', '외야수', '우투좌타', '충암고', 177)\n",
      "(17, '김범수', '투수', '좌투좌타', '천안북일고', 181)\n",
      "(38, '안영명', '투수', '우투우타', '천안북일고', 183)\n",
      "(36, '장민재', '투수', '우투우타', '광주제일고', 184)\n",
      "(13, '최재훈', '포수', '우투우타', '덕수고', 178)\n",
      "(52, '김태균', '내야수', '우투우타', '천안북일고', 185)\n",
      "(7, '송광민', '내야수', '우투우타', '공주고', 184)\n",
      "(50, '이성열', '내야수', '우투좌타', '순천효천고', 185)\n",
      "(43, '정은원', '내야수', '우투좌타', '인천고', 177)\n",
      "(8, '정근우', '외야수', '우투우타', '부산고', 172)\n",
      "(25, '최진행', '외야수', '우투우타', '덕수정보고', 188)\n"
     ]
    }
   ],
   "source": [
    "# 순회 조회\n",
    "cur = conn.cursor()\n",
    "cur.execute('SELECT * FROM Eagles')\n",
    "for row in cur:\n",
    "    print(row)"
   ]
  },
  {
   "cell_type": "code",
   "execution_count": 28,
   "metadata": {},
   "outputs": [
    {
     "name": "stdout",
     "output_type": "stream",
     "text": [
      "(30, '호잉', '외야수', None, None, None)\n"
     ]
    }
   ],
   "source": [
    "# 단건 조회\n",
    "cur = conn.cursor()\n",
    "cur.execute('SELECT * FROM Eagles')\n",
    "row = cur.fetchone()\n",
    "print(row)"
   ]
  },
  {
   "cell_type": "code",
   "execution_count": 29,
   "metadata": {},
   "outputs": [
    {
     "name": "stdout",
     "output_type": "stream",
     "text": [
      "(1, '하주석', '내야수', '우투좌타', '신일고', 184)\n",
      "(28, '양성우', '외야수', '우투좌타', '충암고', 177)\n"
     ]
    }
   ],
   "source": [
    "# 다건 조회\n",
    "rows = cur.fetchmany(2)\n",
    "for row in rows:\n",
    "    print(row)"
   ]
  },
  {
   "cell_type": "code",
   "execution_count": 30,
   "metadata": {},
   "outputs": [
    {
     "name": "stdout",
     "output_type": "stream",
     "text": [
      "(17, '김범수', '투수', '좌투좌타', '천안북일고', 181)\n",
      "(38, '안영명', '투수', '우투우타', '천안북일고', 183)\n",
      "(36, '장민재', '투수', '우투우타', '광주제일고', 184)\n",
      "(13, '최재훈', '포수', '우투우타', '덕수고', 178)\n",
      "(52, '김태균', '내야수', '우투우타', '천안북일고', 185)\n",
      "(7, '송광민', '내야수', '우투우타', '공주고', 184)\n",
      "(50, '이성열', '내야수', '우투좌타', '순천효천고', 185)\n",
      "(43, '정은원', '내야수', '우투좌타', '인천고', 177)\n",
      "(8, '정근우', '외야수', '우투우타', '부산고', 172)\n",
      "(25, '최진행', '외야수', '우투우타', '덕수정보고', 188)\n"
     ]
    }
   ],
   "source": [
    "# 모두 조회\n",
    "rows = cur.fetchall()\n",
    "for row in rows:\n",
    "    print(row)"
   ]
  },
  {
   "cell_type": "code",
   "execution_count": 31,
   "metadata": {},
   "outputs": [
    {
     "name": "stdout",
     "output_type": "stream",
     "text": [
      "('장민재',)\n",
      "('안영명',)\n",
      "('정은원',)\n",
      "('이성열',)\n",
      "('김태균',)\n"
     ]
    }
   ],
   "source": [
    "# 필요한 column만 조회, 조회 조건도 추가\n",
    "cur = conn.cursor()\n",
    "cur.execute('SELECT name FROM Eagles WHERE back_no > 30')\n",
    "rows = cur.fetchall();\n",
    "for row in rows:\n",
    "    print(row)"
   ]
  },
  {
   "cell_type": "code",
   "execution_count": 32,
   "metadata": {},
   "outputs": [
    {
     "name": "stdout",
     "output_type": "stream",
     "text": [
      "(1, '하주석', '내야수', '우투좌타', '신일고', 184)\n",
      "(52, '김태균', '내야수', '우투우타', '천안북일고', 185)\n",
      "(7, '송광민', '내야수', '우투우타', '공주고', 184)\n",
      "(50, '이성열', '내야수', '우투좌타', '순천효천고', 185)\n",
      "(43, '정은원', '내야수', '우투좌타', '인천고', 177)\n"
     ]
    }
   ],
   "source": [
    "# 조회 조건\n",
    "cur = conn.cursor()\n",
    "cur.execute(\"SELECT * FROM Eagles WHERE position like '내야수'\")\n",
    "rows = cur.fetchall();\n",
    "for row in rows:\n",
    "    print(row)"
   ]
  },
  {
   "cell_type": "code",
   "execution_count": 33,
   "metadata": {},
   "outputs": [
    {
     "name": "stdout",
     "output_type": "stream",
     "text": [
      "(25, '최진행', '외야수', '우투우타', '덕수정보고', 188)\n",
      "(52, '김태균', '내야수', '우투우타', '천안북일고', 185)\n",
      "(50, '이성열', '내야수', '우투좌타', '순천효천고', 185)\n",
      "(1, '하주석', '내야수', '우투좌타', '신일고', 184)\n",
      "(36, '장민재', '투수', '우투우타', '광주제일고', 184)\n",
      "(7, '송광민', '내야수', '우투우타', '공주고', 184)\n",
      "(38, '안영명', '투수', '우투우타', '천안북일고', 183)\n",
      "(17, '김범수', '투수', '좌투좌타', '천안북일고', 181)\n",
      "(13, '최재훈', '포수', '우투우타', '덕수고', 178)\n",
      "(28, '양성우', '외야수', '우투좌타', '충암고', 177)\n",
      "(43, '정은원', '내야수', '우투좌타', '인천고', 177)\n",
      "(8, '정근우', '외야수', '우투우타', '부산고', 172)\n",
      "(30, '호잉', '외야수', None, None, None)\n"
     ]
    }
   ],
   "source": [
    "# 원하는 순서\n",
    "cur = conn.cursor()\n",
    "cur.execute('SELECT * FROM Eagles ORDER BY height DESC')\n",
    "rows = cur.fetchall();\n",
    "for row in rows:\n",
    "    print(row)"
   ]
  },
  {
   "cell_type": "code",
   "execution_count": 34,
   "metadata": {},
   "outputs": [
    {
     "name": "stdout",
     "output_type": "stream",
     "text": [
      "(25, '최진행', '외야수', '우투우타', '덕수정보고', 188)\n",
      "(52, '김태균', '내야수', '우투우타', '천안북일고', 185)\n",
      "(50, '이성열', '내야수', '우투좌타', '순천효천고', 185)\n",
      "(1, '하주석', '내야수', '우투좌타', '신일고', 184)\n",
      "(36, '장민재', '투수', '우투우타', '광주제일고', 184)\n"
     ]
    }
   ],
   "source": [
    "# 원하는 순서 및 갯수\n",
    "cur = conn.cursor()\n",
    "cur.execute('SELECT * FROM Eagles ORDER BY height DESC LIMIT 5')\n",
    "rows = cur.fetchall();\n",
    "for row in rows:\n",
    "    print(row)"
   ]
  },
  {
   "cell_type": "code",
   "execution_count": 35,
   "metadata": {},
   "outputs": [
    {
     "name": "stdout",
     "output_type": "stream",
     "text": [
      "(13,)\n"
     ]
    }
   ],
   "source": [
    "# 집계 함수\n",
    "cur.execute('SELECT count(*) FROM Eagles')\n",
    "count = cur.fetchone()\n",
    "print(count)"
   ]
  },
  {
   "cell_type": "code",
   "execution_count": 37,
   "metadata": {},
   "outputs": [
    {
     "name": "stdout",
     "output_type": "stream",
     "text": [
      "('내야수', 5, 183.0)\n",
      "('외야수', 4, 179.0)\n",
      "('투수', 3, 182.66666666666666)\n",
      "('포수', 1, 178.0)\n"
     ]
    }
   ],
   "source": [
    "# 그룹핑, 집계 함수\n",
    "cur = conn.cursor()\n",
    "cur.execute('SELECT position, count(*), avg(height) FROM Eagles GROUP BY position')\n",
    "rows = cur.fetchall();\n",
    "for row in rows:\n",
    "    print(row)"
   ]
  },
  {
   "cell_type": "code",
   "execution_count": 40,
   "metadata": {},
   "outputs": [
    {
     "name": "stdout",
     "output_type": "stream",
     "text": [
      "(50, '이성열', '내야수', '우투좌타', '순천효천고', 185)\n"
     ]
    }
   ],
   "source": [
    "# Placeholder를 사용해서 데이터 검색\n",
    "cur = conn.cursor()\n",
    "back_no = 50\n",
    "cur.execute('SELECT * FROM Eagles WHERE back_no=?;', (back_no,))\n",
    "player = cur.fetchone()\n",
    "print(player)"
   ]
  },
  {
   "cell_type": "markdown",
   "metadata": {},
   "source": [
    "- **데이터 변경**\n",
    "- UPDATE table SET field1 = value1, ... WHERE 조건;"
   ]
  },
  {
   "cell_type": "code",
   "execution_count": 41,
   "metadata": {},
   "outputs": [],
   "source": [
    "cur = conn.cursor()\n",
    "cur.execute(\"UPDATE Eagles SET hands='우투좌타', highschool='미쿡고', \\\n",
    "             height=190 WHERE back_no=30;\")\n",
    "conn.commit()"
   ]
  },
  {
   "cell_type": "markdown",
   "metadata": {},
   "source": [
    "- **데이터 삭제**\n",
    "- DELETE FROM table WHERE 조건;"
   ]
  },
  {
   "cell_type": "code",
   "execution_count": 42,
   "metadata": {},
   "outputs": [],
   "source": [
    "cur = conn.cursor()\n",
    "cur.execute(\"DELETE FROM Eagles WHERE back_no=1;\")\n",
    "conn.commit()"
   ]
  },
  {
   "cell_type": "markdown",
   "metadata": {},
   "source": [
    "## 3. Table Join"
   ]
  },
  {
   "cell_type": "code",
   "execution_count": 52,
   "metadata": {},
   "outputs": [
    {
     "data": {
      "text/plain": [
       "<sqlite3.Cursor at 0x9009490>"
      ]
     },
     "execution_count": 52,
     "metadata": {},
     "output_type": "execute_result"
    }
   ],
   "source": [
    "cur = conn.cursor()\n",
    "cur.execute('CREATE TABLE IF NOT EXISTS Stats \\\n",
    "    (id INT NOT NULL, \\\n",
    "     player TEXT, \\\n",
    "     average REAL, \\\n",
    "     rbi INT, \\\n",
    "     homerun INT, \\\n",
    "     PRIMARY KEY(id));')"
   ]
  },
  {
   "cell_type": "code",
   "execution_count": 53,
   "metadata": {},
   "outputs": [
    {
     "data": {
      "text/html": [
       "<div>\n",
       "<style scoped>\n",
       "    .dataframe tbody tr th:only-of-type {\n",
       "        vertical-align: middle;\n",
       "    }\n",
       "\n",
       "    .dataframe tbody tr th {\n",
       "        vertical-align: top;\n",
       "    }\n",
       "\n",
       "    .dataframe thead th {\n",
       "        text-align: right;\n",
       "    }\n",
       "</style>\n",
       "<table border=\"1\" class=\"dataframe\">\n",
       "  <thead>\n",
       "    <tr style=\"text-align: right;\">\n",
       "      <th></th>\n",
       "      <th>player</th>\n",
       "      <th>average</th>\n",
       "      <th>rbi</th>\n",
       "      <th>homerun</th>\n",
       "    </tr>\n",
       "  </thead>\n",
       "  <tbody>\n",
       "    <tr>\n",
       "      <th>0</th>\n",
       "      <td>호잉</td>\n",
       "      <td>0.288</td>\n",
       "      <td>58</td>\n",
       "      <td>15</td>\n",
       "    </tr>\n",
       "    <tr>\n",
       "      <th>1</th>\n",
       "      <td>양성우</td>\n",
       "      <td>0.176</td>\n",
       "      <td>6</td>\n",
       "      <td>1</td>\n",
       "    </tr>\n",
       "    <tr>\n",
       "      <th>2</th>\n",
       "      <td>최재훈</td>\n",
       "      <td>0.300</td>\n",
       "      <td>23</td>\n",
       "      <td>2</td>\n",
       "    </tr>\n",
       "    <tr>\n",
       "      <th>3</th>\n",
       "      <td>김태균</td>\n",
       "      <td>0.308</td>\n",
       "      <td>43</td>\n",
       "      <td>5</td>\n",
       "    </tr>\n",
       "    <tr>\n",
       "      <th>4</th>\n",
       "      <td>송광민</td>\n",
       "      <td>0.257</td>\n",
       "      <td>39</td>\n",
       "      <td>6</td>\n",
       "    </tr>\n",
       "    <tr>\n",
       "      <th>5</th>\n",
       "      <td>이성열</td>\n",
       "      <td>0.255</td>\n",
       "      <td>62</td>\n",
       "      <td>18</td>\n",
       "    </tr>\n",
       "    <tr>\n",
       "      <th>6</th>\n",
       "      <td>정은원</td>\n",
       "      <td>0.281</td>\n",
       "      <td>47</td>\n",
       "      <td>5</td>\n",
       "    </tr>\n",
       "    <tr>\n",
       "      <th>7</th>\n",
       "      <td>정근우</td>\n",
       "      <td>0.219</td>\n",
       "      <td>10</td>\n",
       "      <td>2</td>\n",
       "    </tr>\n",
       "    <tr>\n",
       "      <th>8</th>\n",
       "      <td>최진행</td>\n",
       "      <td>0.184</td>\n",
       "      <td>14</td>\n",
       "      <td>3</td>\n",
       "    </tr>\n",
       "  </tbody>\n",
       "</table>\n",
       "</div>"
      ],
      "text/plain": [
       "  player  average  rbi  homerun\n",
       "0     호잉    0.288   58       15\n",
       "1    양성우    0.176    6        1\n",
       "2    최재훈    0.300   23        2\n",
       "3    김태균    0.308   43        5\n",
       "4    송광민    0.257   39        6\n",
       "5    이성열    0.255   62       18\n",
       "6    정은원    0.281   47        5\n",
       "7    정근우    0.219   10        2\n",
       "8    최진행    0.184   14        3"
      ]
     },
     "execution_count": 53,
     "metadata": {},
     "output_type": "execute_result"
    }
   ],
   "source": [
    "stats = pd.read_csv('./stats.csv', encoding='EUC-KR')\n",
    "stats"
   ]
  },
  {
   "cell_type": "code",
   "execution_count": 54,
   "metadata": {},
   "outputs": [],
   "source": [
    "cur = conn.cursor()\n",
    "sql = 'INSERT INTO Stats VALUES (?, ?, ?, ?, ?);'\n",
    "for i in range(9):\n",
    "    cur.execute(sql, (i+1, \n",
    "                      stats.iloc[i,0],\n",
    "                      float(stats.iloc[i,1]), \n",
    "                      int(stats.iloc[i,2]),\n",
    "                      int(stats.iloc[i,3])))\n",
    "conn.commit()"
   ]
  },
  {
   "cell_type": "code",
   "execution_count": 55,
   "metadata": {},
   "outputs": [
    {
     "name": "stdout",
     "output_type": "stream",
     "text": [
      "(1, '호잉', 0.28800000000000003, 58, 15)\n",
      "(2, '양성우', 0.17600000000000002, 6, 1)\n",
      "(3, '최재훈', 0.3, 23, 2)\n",
      "(4, '김태균', 0.308, 43, 5)\n",
      "(5, '송광민', 0.257, 39, 6)\n",
      "(6, '이성열', 0.255, 62, 18)\n",
      "(7, '정은원', 0.281, 47, 5)\n",
      "(8, '정근우', 0.21899999999999997, 10, 2)\n",
      "(9, '최진행', 0.184, 14, 3)\n"
     ]
    }
   ],
   "source": [
    "cur = conn.cursor()\n",
    "cur.execute('SELECT * FROM Stats')\n",
    "for row in cur:\n",
    "    print(row)"
   ]
  },
  {
   "cell_type": "code",
   "execution_count": 58,
   "metadata": {},
   "outputs": [
    {
     "name": "stdout",
     "output_type": "stream",
     "text": [
      "(30, '호잉', '외야수', 0.28800000000000003, 58, 15)\n",
      "(28, '양성우', '외야수', 0.17600000000000002, 6, 1)\n",
      "(13, '최재훈', '포수', 0.3, 23, 2)\n",
      "(52, '김태균', '내야수', 0.308, 43, 5)\n",
      "(7, '송광민', '내야수', 0.257, 39, 6)\n",
      "(50, '이성열', '내야수', 0.255, 62, 18)\n",
      "(43, '정은원', '내야수', 0.281, 47, 5)\n",
      "(8, '정근우', '외야수', 0.21899999999999997, 10, 2)\n",
      "(25, '최진행', '외야수', 0.184, 14, 3)\n"
     ]
    }
   ],
   "source": [
    "sql = \"SELECT Eagles.back_no, Eagles.name, Eagles.position, \\\n",
    "           Stats.average, Stats.rbi, Stats.homerun \\\n",
    "           FROM Eagles JOIN Stats \\\n",
    "           ON Eagles.name like Stats.player;\"\n",
    "cur = conn.cursor()\n",
    "cur.execute(sql)\n",
    "for row in cur:\n",
    "    print(row)"
   ]
  },
  {
   "cell_type": "code",
   "execution_count": 67,
   "metadata": {},
   "outputs": [
    {
     "data": {
      "text/html": [
       "<div>\n",
       "<style scoped>\n",
       "    .dataframe tbody tr th:only-of-type {\n",
       "        vertical-align: middle;\n",
       "    }\n",
       "\n",
       "    .dataframe tbody tr th {\n",
       "        vertical-align: top;\n",
       "    }\n",
       "\n",
       "    .dataframe thead th {\n",
       "        text-align: right;\n",
       "    }\n",
       "</style>\n",
       "<table border=\"1\" class=\"dataframe\">\n",
       "  <thead>\n",
       "    <tr style=\"text-align: right;\">\n",
       "      <th></th>\n",
       "      <th>등번호</th>\n",
       "      <th>선수명</th>\n",
       "      <th>포지션</th>\n",
       "      <th>타율</th>\n",
       "      <th>타점</th>\n",
       "      <th>홈런</th>\n",
       "    </tr>\n",
       "  </thead>\n",
       "  <tbody>\n",
       "    <tr>\n",
       "      <th>0</th>\n",
       "      <td>30</td>\n",
       "      <td>호잉</td>\n",
       "      <td>외야수</td>\n",
       "      <td>0.288</td>\n",
       "      <td>58</td>\n",
       "      <td>15</td>\n",
       "    </tr>\n",
       "    <tr>\n",
       "      <th>1</th>\n",
       "      <td>28</td>\n",
       "      <td>양성우</td>\n",
       "      <td>외야수</td>\n",
       "      <td>0.176</td>\n",
       "      <td>6</td>\n",
       "      <td>1</td>\n",
       "    </tr>\n",
       "    <tr>\n",
       "      <th>2</th>\n",
       "      <td>13</td>\n",
       "      <td>최재훈</td>\n",
       "      <td>포수</td>\n",
       "      <td>0.300</td>\n",
       "      <td>23</td>\n",
       "      <td>2</td>\n",
       "    </tr>\n",
       "    <tr>\n",
       "      <th>3</th>\n",
       "      <td>52</td>\n",
       "      <td>김태균</td>\n",
       "      <td>내야수</td>\n",
       "      <td>0.308</td>\n",
       "      <td>43</td>\n",
       "      <td>5</td>\n",
       "    </tr>\n",
       "    <tr>\n",
       "      <th>4</th>\n",
       "      <td>7</td>\n",
       "      <td>송광민</td>\n",
       "      <td>내야수</td>\n",
       "      <td>0.257</td>\n",
       "      <td>39</td>\n",
       "      <td>6</td>\n",
       "    </tr>\n",
       "    <tr>\n",
       "      <th>5</th>\n",
       "      <td>50</td>\n",
       "      <td>이성열</td>\n",
       "      <td>내야수</td>\n",
       "      <td>0.255</td>\n",
       "      <td>62</td>\n",
       "      <td>18</td>\n",
       "    </tr>\n",
       "    <tr>\n",
       "      <th>6</th>\n",
       "      <td>43</td>\n",
       "      <td>정은원</td>\n",
       "      <td>내야수</td>\n",
       "      <td>0.281</td>\n",
       "      <td>47</td>\n",
       "      <td>5</td>\n",
       "    </tr>\n",
       "    <tr>\n",
       "      <th>7</th>\n",
       "      <td>8</td>\n",
       "      <td>정근우</td>\n",
       "      <td>외야수</td>\n",
       "      <td>0.219</td>\n",
       "      <td>10</td>\n",
       "      <td>2</td>\n",
       "    </tr>\n",
       "    <tr>\n",
       "      <th>8</th>\n",
       "      <td>25</td>\n",
       "      <td>최진행</td>\n",
       "      <td>외야수</td>\n",
       "      <td>0.184</td>\n",
       "      <td>14</td>\n",
       "      <td>3</td>\n",
       "    </tr>\n",
       "  </tbody>\n",
       "</table>\n",
       "</div>"
      ],
      "text/plain": [
       "  등번호  선수명  포지션     타율  타점  홈런\n",
       "0  30   호잉  외야수  0.288  58  15\n",
       "1  28  양성우  외야수  0.176   6   1\n",
       "2  13  최재훈   포수  0.300  23   2\n",
       "3  52  김태균  내야수  0.308  43   5\n",
       "4   7  송광민  내야수  0.257  39   6\n",
       "5  50  이성열  내야수  0.255  62  18\n",
       "6  43  정은원  내야수  0.281  47   5\n",
       "7   8  정근우  외야수  0.219  10   2\n",
       "8  25  최진행  외야수  0.184  14   3"
      ]
     },
     "execution_count": 67,
     "metadata": {},
     "output_type": "execute_result"
    }
   ],
   "source": [
    "sql = \"SELECT e.back_no, e.name, e.position, \\\n",
    "           s.average, s.rbi, s.homerun \\\n",
    "           FROM Eagles AS e JOIN Stats AS s \\\n",
    "           ON e.name like s.player;\"\n",
    "cur = conn.cursor()\n",
    "cur.execute(sql)\n",
    "rows = cur.fetchall();\n",
    "columnName = ['등번호', '선수명', '포지션', '타율', '타점', '홈런']\n",
    "eagles_df = pd.DataFrame(columns = columnName)\n",
    "for row in rows:\n",
    "    eagles_df = eagles_df.append(pd.DataFrame([list(row)], columns = columnName), \n",
    "                                 ignore_index=True)\n",
    "eagles_df"
   ]
  },
  {
   "attachments": {},
   "cell_type": "markdown",
   "metadata": {},
   "source": [
    "#### 연습문제 1\n",
    "투수들의 기록중에서 평균자책점(ERA), 투구인닝(IP), 탈삼진(SO) 기록을 찾아서  Pitcher_stats 란 테이블을 만들고, Eagles 테이블과 Join 하여 백넘버, 선수명, 포지션, 투구인닝, 평균자책점, 탈삼진 필드를 갖는 데이터 프레임을 만들어서 Join 한 결과를 입력하고, 그 결과를 보이시오."
   ]
  },
  {
   "cell_type": "code",
   "execution_count": 77,
   "metadata": {},
   "outputs": [],
   "source": [
    "import pandas as pd"
   ]
  },
  {
   "cell_type": "code",
   "execution_count": 70,
   "metadata": {},
   "outputs": [
    {
     "data": {
      "text/plain": [
       "<sqlite3.Cursor at 0x90098f0>"
      ]
     },
     "execution_count": 70,
     "metadata": {},
     "output_type": "execute_result"
    }
   ],
   "source": [
    "cur = conn.cursor()\n",
    "cur.execute('CREATE TABLE IF NOT EXISTS Pitcher_stats \\\n",
    "    (id INT NOT NULL, \\\n",
    "     player TEXT, \\\n",
    "     era REAL, \\\n",
    "     ip REAL, \\\n",
    "     so INT, \\\n",
    "     PRIMARY KEY(id));')"
   ]
  },
  {
   "cell_type": "code",
   "execution_count": 78,
   "metadata": {},
   "outputs": [
    {
     "data": {
      "text/html": [
       "<div>\n",
       "<style scoped>\n",
       "    .dataframe tbody tr th:only-of-type {\n",
       "        vertical-align: middle;\n",
       "    }\n",
       "\n",
       "    .dataframe tbody tr th {\n",
       "        vertical-align: top;\n",
       "    }\n",
       "\n",
       "    .dataframe thead th {\n",
       "        text-align: right;\n",
       "    }\n",
       "</style>\n",
       "<table border=\"1\" class=\"dataframe\">\n",
       "  <thead>\n",
       "    <tr style=\"text-align: right;\">\n",
       "      <th></th>\n",
       "      <th>player</th>\n",
       "      <th>era</th>\n",
       "      <th>ip</th>\n",
       "      <th>so</th>\n",
       "    </tr>\n",
       "  </thead>\n",
       "  <tbody>\n",
       "    <tr>\n",
       "      <th>0</th>\n",
       "      <td>장민재</td>\n",
       "      <td>4.81</td>\n",
       "      <td>91.2</td>\n",
       "      <td>84</td>\n",
       "    </tr>\n",
       "    <tr>\n",
       "      <th>1</th>\n",
       "      <td>안영명</td>\n",
       "      <td>3.43</td>\n",
       "      <td>44.2</td>\n",
       "      <td>35</td>\n",
       "    </tr>\n",
       "    <tr>\n",
       "      <th>2</th>\n",
       "      <td>김범수</td>\n",
       "      <td>5.67</td>\n",
       "      <td>81.0</td>\n",
       "      <td>65</td>\n",
       "    </tr>\n",
       "  </tbody>\n",
       "</table>\n",
       "</div>"
      ],
      "text/plain": [
       "  player   era    ip  so\n",
       "0    장민재  4.81  91.2  84\n",
       "1    안영명  3.43  44.2  35\n",
       "2    김범수  5.67  81.0  65"
      ]
     },
     "execution_count": 78,
     "metadata": {},
     "output_type": "execute_result"
    }
   ],
   "source": [
    "pstats = pd.read_csv('./pstats.csv', encoding='EUC-KR')\n",
    "pstats"
   ]
  },
  {
   "cell_type": "code",
   "execution_count": 72,
   "metadata": {},
   "outputs": [],
   "source": [
    "cur = conn.cursor()\n",
    "sql = 'INSERT INTO Pitcher_stats VALUES (?, ?, ?, ?, ?);'\n",
    "for i in range(3):\n",
    "    cur.execute(sql, (i+1, \n",
    "                      pstats.iloc[i,0],\n",
    "                      float(pstats.iloc[i,1]), \n",
    "                      float(pstats.iloc[i,2]),\n",
    "                      int(pstats.iloc[i,3])))\n",
    "conn.commit()"
   ]
  },
  {
   "cell_type": "code",
   "execution_count": 79,
   "metadata": {},
   "outputs": [
    {
     "data": {
      "text/html": [
       "<div>\n",
       "<style scoped>\n",
       "    .dataframe tbody tr th:only-of-type {\n",
       "        vertical-align: middle;\n",
       "    }\n",
       "\n",
       "    .dataframe tbody tr th {\n",
       "        vertical-align: top;\n",
       "    }\n",
       "\n",
       "    .dataframe thead th {\n",
       "        text-align: right;\n",
       "    }\n",
       "</style>\n",
       "<table border=\"1\" class=\"dataframe\">\n",
       "  <thead>\n",
       "    <tr style=\"text-align: right;\">\n",
       "      <th></th>\n",
       "      <th>등번호</th>\n",
       "      <th>선수명</th>\n",
       "      <th>포지션</th>\n",
       "      <th>평균자책점</th>\n",
       "      <th>투구인닝</th>\n",
       "      <th>탈삼진</th>\n",
       "    </tr>\n",
       "  </thead>\n",
       "  <tbody>\n",
       "    <tr>\n",
       "      <th>0</th>\n",
       "      <td>17</td>\n",
       "      <td>김범수</td>\n",
       "      <td>투수</td>\n",
       "      <td>5.67</td>\n",
       "      <td>81.0</td>\n",
       "      <td>65</td>\n",
       "    </tr>\n",
       "    <tr>\n",
       "      <th>1</th>\n",
       "      <td>38</td>\n",
       "      <td>안영명</td>\n",
       "      <td>투수</td>\n",
       "      <td>3.43</td>\n",
       "      <td>44.2</td>\n",
       "      <td>35</td>\n",
       "    </tr>\n",
       "    <tr>\n",
       "      <th>2</th>\n",
       "      <td>36</td>\n",
       "      <td>장민재</td>\n",
       "      <td>투수</td>\n",
       "      <td>4.81</td>\n",
       "      <td>91.2</td>\n",
       "      <td>84</td>\n",
       "    </tr>\n",
       "  </tbody>\n",
       "</table>\n",
       "</div>"
      ],
      "text/plain": [
       "  등번호  선수명 포지션  평균자책점  투구인닝 탈삼진\n",
       "0  17  김범수  투수   5.67  81.0  65\n",
       "1  38  안영명  투수   3.43  44.2  35\n",
       "2  36  장민재  투수   4.81  91.2  84"
      ]
     },
     "execution_count": 79,
     "metadata": {},
     "output_type": "execute_result"
    }
   ],
   "source": [
    "sql = \"SELECT e.back_no, e.name, e.position, \\\n",
    "           p.era, p.ip, p.so \\\n",
    "           FROM Eagles AS e JOIN Pitcher_stats AS p \\\n",
    "           ON e.name like p.player;\"\n",
    "cur = conn.cursor()\n",
    "cur.execute(sql)\n",
    "rows = cur.fetchall();\n",
    "columnPitcher = ['등번호', '선수명', '포지션', '평균자책점', '투구인닝', '탈삼진']\n",
    "pitcher_df = pd.DataFrame(columns = columnPitcher)\n",
    "for row in rows:\n",
    "    pitcher_df = pitcher_df.append(pd.DataFrame([list(row)], columns = columnPitcher), \n",
    "                                   ignore_index=True)\n",
    "pitcher_df"
   ]
  },
  {
   "cell_type": "code",
   "execution_count": 80,
   "metadata": {},
   "outputs": [],
   "source": [
    "conn.close()"
   ]
  },
  {
   "cell_type": "code",
   "execution_count": null,
   "metadata": {},
   "outputs": [],
   "source": []
  }
 ],
 "metadata": {
  "kernelspec": {
   "display_name": "Python 3",
   "language": "python",
   "name": "python3"
  },
  "language_info": {
   "codemirror_mode": {
    "name": "ipython",
    "version": 3
   },
   "file_extension": ".py",
   "mimetype": "text/x-python",
   "name": "python",
   "nbconvert_exporter": "python",
   "pygments_lexer": "ipython3",
   "version": "3.7.3"
  }
 },
 "nbformat": 4,
 "nbformat_minor": 2
}
