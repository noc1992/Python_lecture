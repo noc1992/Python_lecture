{
 "cells": [
  {
   "cell_type": "code",
   "execution_count": 2,
   "metadata": {},
   "outputs": [
    {
     "name": "stderr",
     "output_type": "stream",
     "text": [
      "C:\\ProgramData\\Anaconda3\\envs\\[tf]\\lib\\site-packages\\h5py\\__init__.py:36: FutureWarning: Conversion of the second argument of issubdtype from `float` to `np.floating` is deprecated. In future, it will be treated as `np.float64 == np.dtype(float).type`.\n",
      "  from ._conv import register_converters as _register_converters\n"
     ]
    }
   ],
   "source": [
    "import numpy as np\n",
    "import tensorflow as tf"
   ]
  },
  {
   "cell_type": "code",
   "execution_count": 3,
   "metadata": {},
   "outputs": [
    {
     "name": "stdout",
     "output_type": "stream",
     "text": [
      "1.13.1\n"
     ]
    }
   ],
   "source": [
    "print(tf.__version__)"
   ]
  },
  {
   "cell_type": "code",
   "execution_count": 4,
   "metadata": {},
   "outputs": [],
   "source": [
    "from keras.models import Sequential\n",
    "from keras.layers import Dense"
   ]
  },
  {
   "cell_type": "code",
   "execution_count": 5,
   "metadata": {},
   "outputs": [],
   "source": [
    "seed = 0\n",
    "np.random.seed(seed)\n",
    "tf.set_random_seed(seed)"
   ]
  },
  {
   "cell_type": "code",
   "execution_count": 7,
   "metadata": {},
   "outputs": [
    {
     "data": {
      "text/plain": [
       "array([[293.  ,   1.  ,   3.8 , ...,   0.  ,  62.  ,   0.  ],\n",
       "       [  1.  ,   2.  ,   2.88, ...,   0.  ,  60.  ,   0.  ],\n",
       "       [  8.  ,   2.  ,   3.19, ...,   0.  ,  66.  ,   1.  ],\n",
       "       ...,\n",
       "       [406.  ,   6.  ,   5.36, ...,   0.  ,  62.  ,   0.  ],\n",
       "       [ 25.  ,   8.  ,   4.32, ...,   0.  ,  58.  ,   1.  ],\n",
       "       [447.  ,   8.  ,   5.2 , ...,   0.  ,  49.  ,   0.  ]])"
      ]
     },
     "execution_count": 7,
     "metadata": {},
     "output_type": "execute_result"
    }
   ],
   "source": [
    "data_set = np.loadtxt('./dataset/ThoraricSurgery.csv', delimiter=',')\n",
    "data_set"
   ]
  },
  {
   "cell_type": "code",
   "execution_count": 11,
   "metadata": {},
   "outputs": [],
   "source": [
    "X = data_set[:,0:17]\n",
    "Y = data_set[:,17]"
   ]
  },
  {
   "cell_type": "code",
   "execution_count": 12,
   "metadata": {},
   "outputs": [],
   "source": [
    "model = Sequential()\n",
    "model.add(Dense(30, input_dim=17, activation='relu'))\n",
    "model.add(Dense(1, activation= 'sigmoid'))"
   ]
  },
  {
   "cell_type": "code",
   "execution_count": 13,
   "metadata": {},
   "outputs": [
    {
     "name": "stdout",
     "output_type": "stream",
     "text": [
      "WARNING:tensorflow:From C:\\ProgramData\\Anaconda3\\envs\\[tf]\\lib\\site-packages\\tensorflow\\python\\ops\\math_ops.py:3066: to_int32 (from tensorflow.python.ops.math_ops) is deprecated and will be removed in a future version.\n",
      "Instructions for updating:\n",
      "Use tf.cast instead.\n",
      "Epoch 1/30\n",
      "470/470 [==============================] - 0s 885us/step - loss: 0.6215 - acc: 0.3468\n",
      "Epoch 2/30\n",
      "470/470 [==============================] - 0s 55us/step - loss: 0.1469 - acc: 0.8511\n",
      "Epoch 3/30\n",
      "470/470 [==============================] - 0s 57us/step - loss: 0.1463 - acc: 0.8511\n",
      "Epoch 4/30\n",
      "470/470 [==============================] - 0s 53us/step - loss: 0.1465 - acc: 0.8511\n",
      "Epoch 5/30\n",
      "470/470 [==============================] - 0s 55us/step - loss: 0.1461 - acc: 0.8511\n",
      "Epoch 6/30\n",
      "470/470 [==============================] - 0s 55us/step - loss: 0.1460 - acc: 0.8511\n",
      "Epoch 7/30\n",
      "470/470 [==============================] - 0s 55us/step - loss: 0.1458 - acc: 0.8511\n",
      "Epoch 8/30\n",
      "470/470 [==============================] - 0s 55us/step - loss: 0.1456 - acc: 0.8511\n",
      "Epoch 9/30\n",
      "470/470 [==============================] - 0s 51us/step - loss: 0.1457 - acc: 0.8489\n",
      "Epoch 10/30\n",
      "470/470 [==============================] - 0s 55us/step - loss: 0.1447 - acc: 0.8511\n",
      "Epoch 11/30\n",
      "470/470 [==============================] - 0s 53us/step - loss: 0.1441 - acc: 0.8511\n",
      "Epoch 12/30\n",
      "470/470 [==============================] - 0s 51us/step - loss: 0.1444 - acc: 0.8511\n",
      "Epoch 13/30\n",
      "470/470 [==============================] - 0s 55us/step - loss: 0.1441 - acc: 0.8511\n",
      "Epoch 14/30\n",
      "470/470 [==============================] - 0s 53us/step - loss: 0.1438 - acc: 0.8511\n",
      "Epoch 15/30\n",
      "470/470 [==============================] - 0s 57us/step - loss: 0.1435 - acc: 0.8511\n",
      "Epoch 16/30\n",
      "470/470 [==============================] - 0s 53us/step - loss: 0.1436 - acc: 0.8511\n",
      "Epoch 17/30\n",
      "470/470 [==============================] - 0s 55us/step - loss: 0.1438 - acc: 0.8511\n",
      "Epoch 18/30\n",
      "470/470 [==============================] - 0s 55us/step - loss: 0.1431 - acc: 0.8511\n",
      "Epoch 19/30\n",
      "470/470 [==============================] - 0s 51us/step - loss: 0.1451 - acc: 0.8511\n",
      "Epoch 20/30\n",
      "470/470 [==============================] - 0s 53us/step - loss: 0.1436 - acc: 0.8511\n",
      "Epoch 21/30\n",
      "470/470 [==============================] - 0s 49us/step - loss: 0.1426 - acc: 0.8489\n",
      "Epoch 22/30\n",
      "470/470 [==============================] - 0s 51us/step - loss: 0.1387 - acc: 0.8468\n",
      "Epoch 23/30\n",
      "470/470 [==============================] - 0s 49us/step - loss: 0.1405 - acc: 0.8574\n",
      "Epoch 24/30\n",
      "470/470 [==============================] - 0s 51us/step - loss: 0.1437 - acc: 0.8511\n",
      "Epoch 25/30\n",
      "470/470 [==============================] - 0s 49us/step - loss: 0.1429 - acc: 0.8511\n",
      "Epoch 26/30\n",
      "470/470 [==============================] - 0s 49us/step - loss: 0.1428 - acc: 0.8511\n",
      "Epoch 27/30\n",
      "470/470 [==============================] - 0s 51us/step - loss: 0.1427 - acc: 0.8511\n",
      "Epoch 28/30\n",
      "470/470 [==============================] - 0s 55us/step - loss: 0.1412 - acc: 0.8468\n",
      "Epoch 29/30\n",
      "470/470 [==============================] - 0s 51us/step - loss: 0.1445 - acc: 0.8511\n",
      "Epoch 30/30\n",
      "470/470 [==============================] - 0s 55us/step - loss: 0.1426 - acc: 0.8511\n"
     ]
    },
    {
     "data": {
      "text/plain": [
       "<keras.callbacks.History at 0xf7b4cf8>"
      ]
     },
     "execution_count": 13,
     "metadata": {},
     "output_type": "execute_result"
    }
   ],
   "source": [
    "model.compile(loss='mean_squared_error', optimizer='adam',\n",
    "             metrics=['accuracy'])\n",
    "model.fit(X,Y, epochs=30, batch_size=10)"
   ]
  },
  {
   "cell_type": "code",
   "execution_count": 14,
   "metadata": {},
   "outputs": [
    {
     "name": "stdout",
     "output_type": "stream",
     "text": [
      "470/470 [==============================] - 0s 146us/step\n",
      "\n",
      " Accuracy: 0.8511\n"
     ]
    }
   ],
   "source": [
    "print(\"\\n Accuracy: %.4f\" % (model.evaluate(X, Y)[1]))"
   ]
  },
  {
   "cell_type": "markdown",
   "metadata": {},
   "source": [
    "## 최소제곱법 "
   ]
  },
  {
   "cell_type": "code",
   "execution_count": 15,
   "metadata": {},
   "outputs": [],
   "source": [
    "import numpy as np"
   ]
  },
  {
   "cell_type": "code",
   "execution_count": 16,
   "metadata": {},
   "outputs": [],
   "source": [
    "x = [2, 4, 6, 8]\n",
    "y = [81, 93, 91, 97]"
   ]
  },
  {
   "cell_type": "code",
   "execution_count": 17,
   "metadata": {},
   "outputs": [],
   "source": [
    "mx = np.mean(x)\n",
    "my = np.mean(y)"
   ]
  },
  {
   "cell_type": "code",
   "execution_count": 18,
   "metadata": {},
   "outputs": [],
   "source": [
    "divisor = sum([(mx - i)**2 for i in x])"
   ]
  },
  {
   "cell_type": "code",
   "execution_count": 19,
   "metadata": {},
   "outputs": [],
   "source": [
    "def top(x, mx, y, my):\n",
    "    d = 0\n",
    "    for i in range(len(x)):\n",
    "        d += (x[i] - mx) * (y[i] - my)\n",
    "    return d\n",
    "dividend = top(x, mx, y, my)"
   ]
  },
  {
   "cell_type": "code",
   "execution_count": 20,
   "metadata": {},
   "outputs": [],
   "source": [
    "a = dividend / divisor"
   ]
  },
  {
   "cell_type": "code",
   "execution_count": 21,
   "metadata": {},
   "outputs": [],
   "source": [
    "b = my - (mx*a)"
   ]
  },
  {
   "cell_type": "code",
   "execution_count": 22,
   "metadata": {},
   "outputs": [
    {
     "name": "stdout",
     "output_type": "stream",
     "text": [
      "기울기 a =  2.3\n",
      "y 절편 b =  79.0\n"
     ]
    }
   ],
   "source": [
    "print(\"기울기 a = \", a)\n",
    "print(\"y 절편 b = \",b)"
   ]
  },
  {
   "cell_type": "code",
   "execution_count": null,
   "metadata": {},
   "outputs": [],
   "source": []
  },
  {
   "cell_type": "markdown",
   "metadata": {},
   "source": [
    "## 최소제곱법 코딩"
   ]
  },
  {
   "cell_type": "code",
   "execution_count": 29,
   "metadata": {},
   "outputs": [],
   "source": [
    "ab = [3, 76]\n",
    "data = [[2,81], [4,93], [6, 91], [8,97]]\n",
    "x=[i[0] for i in data]\n",
    "y=[i[1] for i in data]"
   ]
  },
  {
   "cell_type": "code",
   "execution_count": 30,
   "metadata": {},
   "outputs": [],
   "source": [
    "def predict(x):\n",
    "    return ab[0] * x + ab[1]"
   ]
  },
  {
   "cell_type": "code",
   "execution_count": 36,
   "metadata": {},
   "outputs": [],
   "source": [
    "def rmse(p, a):\n",
    "    return np.sqrt(((p-a) ** 2).mean())"
   ]
  },
  {
   "cell_type": "code",
   "execution_count": 37,
   "metadata": {},
   "outputs": [],
   "source": [
    "def rmse_val(predict_result,y):\n",
    "    return rmse(np.array(predict_result), np.array(y))"
   ]
  },
  {
   "cell_type": "code",
   "execution_count": 38,
   "metadata": {},
   "outputs": [
    {
     "name": "stdout",
     "output_type": "stream",
     "text": [
      "공부한 시간=2, 실제 점수=81, 예측 점수=82\n",
      "공부한 시간=4, 실제 점수=93, 예측 점수=88\n",
      "공부한 시간=6, 실제 점수=91, 예측 점수=94\n",
      "공부한 시간=8, 실제 점수=97, 예측 점수=100\n",
      "최종:3.3166247903554\n"
     ]
    }
   ],
   "source": [
    "predict_result = []\n",
    "\n",
    "for i in range(len(x)):\n",
    "    predict_result.append(predict(x[i]))\n",
    "    print(\"공부한 시간=%.f, 실제 점수=%.f, 예측 점수=%.f\" % (x[i], y[i], predict(x[i])))\n",
    "print(\"최종:\" + str(rmse_val(predict_result, y)))"
   ]
  },
  {
   "cell_type": "markdown",
   "metadata": {},
   "source": [
    "## 경사 하강법"
   ]
  },
  {
   "cell_type": "code",
   "execution_count": 39,
   "metadata": {},
   "outputs": [],
   "source": [
    "data = [[2,81], [4,93], [6, 91], [8,97]]\n",
    "x_data = [x_row[0] for x_row in data]\n",
    "y_data = [y_row[1] for y_row in data]\n",
    "\n",
    "learning_rate = 0.1"
   ]
  },
  {
   "cell_type": "code",
   "execution_count": 42,
   "metadata": {},
   "outputs": [],
   "source": [
    "a = tf.Variable(tf.random_uniform([1], 0, 10, dtype = tf.float64, seed = 0))\n",
    "b = tf.Variable(tf.random_uniform([1], 0, 100, dtype = tf.float64, seed = 0))"
   ]
  },
  {
   "cell_type": "code",
   "execution_count": 43,
   "metadata": {},
   "outputs": [],
   "source": [
    "y = a * x_data + b"
   ]
  },
  {
   "cell_type": "code",
   "execution_count": 44,
   "metadata": {},
   "outputs": [],
   "source": [
    "rmse = tf.sqrt(tf.reduce_mean(tf.square( y - y_data)))"
   ]
  },
  {
   "cell_type": "code",
   "execution_count": 45,
   "metadata": {},
   "outputs": [],
   "source": [
    "gradient_decent = tf.train.GradientDescentOptimizer(learning_rate).minimize(rmse)"
   ]
  },
  {
   "cell_type": "code",
   "execution_count": 47,
   "metadata": {},
   "outputs": [
    {
     "name": "stdout",
     "output_type": "stream",
     "text": [
      "Epoch: 0, RMSE:64.2341, a: 2.0853, b: 15.9056\n",
      "Epoch: 100, RMSE:23.7391, a: 11.9713, b: 21.2854\n",
      "Epoch: 200, RMSE:22.1433, a: 11.3112, b: 25.2252\n",
      "Epoch: 300, RMSE:20.5515, a: 10.6518, b: 29.1601\n",
      "Epoch: 400, RMSE:18.9646, a: 9.9934, b: 33.0889\n",
      "Epoch: 500, RMSE:17.3840, a: 9.3364, b: 37.0099\n",
      "Epoch: 600, RMSE:15.8116, a: 8.6810, b: 40.9208\n",
      "Epoch: 700, RMSE:14.2499, a: 8.0279, b: 44.8183\n",
      "Epoch: 800, RMSE:12.7029, a: 7.3779, b: 48.6975\n",
      "Epoch: 900, RMSE:11.1762, a: 6.7321, b: 52.5511\n",
      "Epoch: 1000, RMSE:9.6792, a: 6.0927, b: 56.3671\n",
      "Epoch: 1100, RMSE:8.2269, a: 5.4628, b: 60.1257\n",
      "Epoch: 1200, RMSE:6.8447, a: 4.8484, b: 63.7925\n",
      "Epoch: 1300, RMSE:5.5769, a: 4.2599, b: 67.3042\n",
      "Epoch: 1400, RMSE:4.4959, a: 3.7166, b: 70.5462\n",
      "Epoch: 1500, RMSE:3.6946, a: 3.2494, b: 73.3346\n",
      "Epoch: 1600, RMSE:3.2207, a: 2.8910, b: 75.4734\n",
      "Epoch: 1700, RMSE:3.0042, a: 2.6496, b: 76.9139\n",
      "Epoch: 1800, RMSE:2.9226, a: 2.5017, b: 77.7963\n",
      "Epoch: 1900, RMSE:2.8946, a: 2.4153, b: 78.3121\n",
      "Epoch: 2000, RMSE:2.8854, a: 2.3657, b: 78.6081\n"
     ]
    }
   ],
   "source": [
    "with tf.Session() as sess:\n",
    "    sess.run(tf.global_variables_initializer())\n",
    "    \n",
    "    for step in range(2001):\n",
    "        sess.run(gradient_decent)\n",
    "        if step % 100 == 0:\n",
    "            print(\"Epoch: %.f, RMSE:%.04f, a: %.4f, b: %.4f\" % (step, sess.run(rmse), sess.run(a), sess.run(b)))"
   ]
  },
  {
   "cell_type": "code",
   "execution_count": null,
   "metadata": {},
   "outputs": [],
   "source": []
  },
  {
   "cell_type": "code",
   "execution_count": null,
   "metadata": {},
   "outputs": [],
   "source": []
  },
  {
   "cell_type": "code",
   "execution_count": null,
   "metadata": {},
   "outputs": [],
   "source": []
  },
  {
   "cell_type": "code",
   "execution_count": null,
   "metadata": {},
   "outputs": [],
   "source": []
  },
  {
   "cell_type": "code",
   "execution_count": null,
   "metadata": {},
   "outputs": [],
   "source": []
  },
  {
   "cell_type": "code",
   "execution_count": null,
   "metadata": {},
   "outputs": [],
   "source": []
  },
  {
   "cell_type": "code",
   "execution_count": null,
   "metadata": {},
   "outputs": [],
   "source": []
  }
 ],
 "metadata": {
  "kernelspec": {
   "display_name": "Python 3",
   "language": "python",
   "name": "python3"
  },
  "language_info": {
   "codemirror_mode": {
    "name": "ipython",
    "version": 3
   },
   "file_extension": ".py",
   "mimetype": "text/x-python",
   "name": "python",
   "nbconvert_exporter": "python",
   "pygments_lexer": "ipython3",
   "version": "3.6.8"
  }
 },
 "nbformat": 4,
 "nbformat_minor": 2
}
