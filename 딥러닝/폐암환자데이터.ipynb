{
 "cells": [
  {
   "cell_type": "code",
   "execution_count": 9,
   "metadata": {},
   "outputs": [
    {
     "name": "stdout",
     "output_type": "stream",
     "text": [
      "Epoch 1/30\n",
      "470/470 [==============================] - 0s 757us/step - loss: 4.1213 - acc: 0.4043\n",
      "Epoch 2/30\n",
      "470/470 [==============================] - 0s 74us/step - loss: 0.0716 - acc: 0.8511\n",
      "Epoch 3/30\n",
      "470/470 [==============================] - 0s 64us/step - loss: 0.0716 - acc: 0.8511\n",
      "Epoch 4/30\n",
      "470/470 [==============================] - 0s 68us/step - loss: 0.0716 - acc: 0.8511\n",
      "Epoch 5/30\n",
      "470/470 [==============================] - 0s 68us/step - loss: 0.0716 - acc: 0.8511\n",
      "Epoch 6/30\n",
      "470/470 [==============================] - 0s 66us/step - loss: 0.0716 - acc: 0.8511\n",
      "Epoch 7/30\n",
      "470/470 [==============================] - 0s 68us/step - loss: 0.0716 - acc: 0.8511\n",
      "Epoch 8/30\n",
      "470/470 [==============================] - 0s 62us/step - loss: 0.0716 - acc: 0.8511\n",
      "Epoch 9/30\n",
      "470/470 [==============================] - 0s 64us/step - loss: 0.0716 - acc: 0.8511\n",
      "Epoch 10/30\n",
      "470/470 [==============================] - 0s 64us/step - loss: 0.0716 - acc: 0.8511\n",
      "Epoch 11/30\n",
      "470/470 [==============================] - 0s 66us/step - loss: 0.0716 - acc: 0.8511\n",
      "Epoch 12/30\n",
      "470/470 [==============================] - 0s 72us/step - loss: 0.0716 - acc: 0.8511\n",
      "Epoch 13/30\n",
      "470/470 [==============================] - 0s 68us/step - loss: 0.0716 - acc: 0.8511\n",
      "Epoch 14/30\n",
      "470/470 [==============================] - 0s 64us/step - loss: 0.0716 - acc: 0.8511\n",
      "Epoch 15/30\n",
      "470/470 [==============================] - 0s 64us/step - loss: 0.0716 - acc: 0.8511\n",
      "Epoch 16/30\n",
      "470/470 [==============================] - 0s 62us/step - loss: 0.0716 - acc: 0.8511\n",
      "Epoch 17/30\n",
      "470/470 [==============================] - 0s 62us/step - loss: 0.0716 - acc: 0.8511\n",
      "Epoch 18/30\n",
      "470/470 [==============================] - 0s 60us/step - loss: 0.0716 - acc: 0.8511\n",
      "Epoch 19/30\n",
      "470/470 [==============================] - 0s 66us/step - loss: 0.0716 - acc: 0.8511\n",
      "Epoch 20/30\n",
      "470/470 [==============================] - 0s 68us/step - loss: 0.0716 - acc: 0.8511\n",
      "Epoch 21/30\n",
      "470/470 [==============================] - 0s 66us/step - loss: 0.0716 - acc: 0.8511\n",
      "Epoch 22/30\n",
      "470/470 [==============================] - 0s 66us/step - loss: 0.0716 - acc: 0.8511\n",
      "Epoch 23/30\n",
      "470/470 [==============================] - 0s 68us/step - loss: 0.0716 - acc: 0.8511\n",
      "Epoch 24/30\n",
      "470/470 [==============================] - 0s 68us/step - loss: 0.0716 - acc: 0.8511\n",
      "Epoch 25/30\n",
      "470/470 [==============================] - 0s 64us/step - loss: 0.0716 - acc: 0.8511\n",
      "Epoch 26/30\n",
      "470/470 [==============================] - 0s 62us/step - loss: 0.0716 - acc: 0.8511\n",
      "Epoch 27/30\n",
      "470/470 [==============================] - 0s 72us/step - loss: 0.0716 - acc: 0.8511\n",
      "Epoch 28/30\n",
      "470/470 [==============================] - 0s 72us/step - loss: 0.0716 - acc: 0.8511\n",
      "Epoch 29/30\n",
      "470/470 [==============================] - 0s 68us/step - loss: 0.0716 - acc: 0.8511\n",
      "Epoch 30/30\n",
      "470/470 [==============================] - 0s 70us/step - loss: 0.0716 - acc: 0.8511\n",
      "470/470 [==============================] - 0s 219us/step\n",
      "\n",
      " Accuracy: 0.8511\n"
     ]
    }
   ],
   "source": [
    "from keras.models import Sequential\n",
    "from keras.layers import Dense\n",
    "\n",
    "import numpy as np\n",
    "import tensorflow as tf\n",
    "\n",
    "seed = 0\n",
    "np.random.seed(seed)\n",
    "tf.set_random_seed(seed)\n",
    "\n",
    "Data_set = np.loadtxt(\"./dataset/ThoraricSurgery.csv\", delimiter=\",\")\n",
    "\n",
    "X = Data_set[:,0:17]\n",
    "Y = Data_set[:, 17]\n",
    "\n",
    "model = Sequential()\n",
    "model.add(Dense(30, input_dim=17, activation='relu'))\n",
    "model.add(Dense(1, activation='relu'))\n",
    "model.compile(loss=\"mean_squared_logarithmic_error\", optimizer='adam',\n",
    "             metrics=['accuracy'])\n",
    "model.fit(X, Y, epochs=30, batch_size=10)\n",
    "\n",
    "print(\"\\n Accuracy: %.4f\" % (model.evaluate(X, Y)[1]))\n"
   ]
  },
  {
   "cell_type": "code",
   "execution_count": 10,
   "metadata": {},
   "outputs": [
    {
     "data": {
      "text/plain": [
       "array([[293.  ,   1.  ,   3.8 , ...,   0.  ,  62.  ,   0.  ],\n",
       "       [  1.  ,   2.  ,   2.88, ...,   0.  ,  60.  ,   0.  ],\n",
       "       [  8.  ,   2.  ,   3.19, ...,   0.  ,  66.  ,   1.  ],\n",
       "       ...,\n",
       "       [406.  ,   6.  ,   5.36, ...,   0.  ,  62.  ,   0.  ],\n",
       "       [ 25.  ,   8.  ,   4.32, ...,   0.  ,  58.  ,   1.  ],\n",
       "       [447.  ,   8.  ,   5.2 , ...,   0.  ,  49.  ,   0.  ]])"
      ]
     },
     "execution_count": 10,
     "metadata": {},
     "output_type": "execute_result"
    }
   ],
   "source": [
    "Data_set"
   ]
  },
  {
   "cell_type": "code",
   "execution_count": null,
   "metadata": {},
   "outputs": [],
   "source": []
  }
 ],
 "metadata": {
  "kernelspec": {
   "display_name": "Python 3",
   "language": "python",
   "name": "python3"
  },
  "language_info": {
   "codemirror_mode": {
    "name": "ipython",
    "version": 3
   },
   "file_extension": ".py",
   "mimetype": "text/x-python",
   "name": "python",
   "nbconvert_exporter": "python",
   "pygments_lexer": "ipython3",
   "version": "3.6.8"
  }
 },
 "nbformat": 4,
 "nbformat_minor": 2
}
