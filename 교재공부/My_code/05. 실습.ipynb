{
 "cells": [
  {
   "cell_type": "code",
   "execution_count": 14,
   "metadata": {},
   "outputs": [],
   "source": [
    "import pandas as pd\n",
    "import numpy as np\n",
    "import urllib.request\n",
    "import json\n",
    "import bs4\n",
    "import platform\n",
    "import matplotlib.pyplot as plt\n",
    "from bs4 import BeautifulSoup \n",
    "from urllib.request import urlopen\n",
    "\n",
    "\n",
    "%matplotlib inline\n",
    "\n",
    "path = \"c:/Windows/Fonts/malgun.ttf\"\n",
    "from matplotlib import font_manager, rc\n",
    "if platform.system() == 'Darwin':\n",
    "    rc('font', family='AppleGothic')\n",
    "elif platform.system() == 'Windows':\n",
    "    font_name = font_manager.FontProperties(fname=path).get_name()\n",
    "    rc('font', family=font_name)\n",
    "else:\n",
    "    print('Unknown system... sorry~~~~')    \n",
    "\n",
    "plt.rcParams['axes.unicode_minus'] = False"
   ]
  },
  {
   "cell_type": "code",
   "execution_count": 29,
   "metadata": {},
   "outputs": [
    {
     "data": {
      "text/plain": [
       "{\"id\":\"API_0701\",\"result\":[{\"y_coor\":\"1944250\",\"full_addr\":\"서울특별시 강남구\",\"x_coor\":\"961366\",\"addr_name\":\"강남구\",\"cd\":\"11230\"},{\"y_coor\":\"1950181\",\"full_addr\":\"서울특별시 강동구\",\"x_coor\":\"968817\",\"addr_name\":\"강동구\",\"cd\":\"11250\"},{\"y_coor\":\"1960547\",\"full_addr\":\"서울특별시 강북구\",\"x_coor\":\"956880\",\"addr_name\":\"강북구\",\"cd\":\"11090\"},{\"y_coor\":\"1951538\",\"full_addr\":\"서울특별시 강서구\",\"x_coor\":\"940183\",\"addr_name\":\"강서구\",\"cd\":\"11160\"},{\"y_coor\":\"1941043\",\"full_addr\":\"서울특별시 관악구\",\"x_coor\":\"950955\",\"addr_name\":\"관악구\",\"cd\":\"11210\"},{\"y_coor\":\"1949789\",\"full_addr\":\"서울특별시 광진구\",\"x_coor\":\"963406\",\"addr_name\":\"광진구\",\"cd\":\"11050\"},{\"y_coor\":\"1944106\",\"full_addr\":\"서울특별시 구로구\",\"x_coor\":\"942116\",\"addr_name\":\"구로구\",\"cd\":\"11170\"},{\"y_coor\":\"1940318\",\"full_addr\":\"서울특별시 금천구\",\"x_coor\":\"947013\",\"addr_name\":\"금천구\",\"cd\":\"11180\"},{\"y_coor\":\"1961524\",\"full_addr\":\"서울특별시 노원구\",\"x_coor\":\"962515\",\"addr_name\":\"노원구\",\"cd\":\"11110\"},{\"y_coor\":\"1963392\",\"full_addr\":\"서울특별시 도봉구\",\"x_coor\":\"958762\",\"addr_name\":\"도봉구\",\"cd\":\"11100\"},{\"y_coor\":\"1953724\",\"full_addr\":\"서울특별시 동대문구\",\"x_coor\":\"960700\",\"addr_name\":\"동대문구\",\"cd\":\"11060\"},{\"y_coor\":\"1945542\",\"full_addr\":\"서울특별시 동작구\",\"x_coor\":\"951541\",\"addr_name\":\"동작구\",\"cd\":\"11200\"},{\"y_coor\":\"1951273\",\"full_addr\":\"서울특별시 마포구\",\"x_coor\":\"947740\",\"addr_name\":\"마포구\",\"cd\":\"11140\"},{\"y_coor\":\"1953308\",\"full_addr\":\"서울특별시 서대문구\",\"x_coor\":\"950469\",\"addr_name\":\"서대문구\",\"cd\":\"11130\"},{\"y_coor\":\"1941664\",\"full_addr\":\"서울특별시 서초구\",\"x_coor\":\"958560\",\"addr_name\":\"서초구\",\"cd\":\"11220\"},{\"y_coor\":\"1950284\",\"full_addr\":\"서울특별시 성동구\",\"x_coor\":\"959458\",\"addr_name\":\"성동구\",\"cd\":\"11040\"},{\"y_coor\":\"1956365\",\"full_addr\":\"서울특별시 성북구\",\"x_coor\":\"957400\",\"addr_name\":\"성북구\",\"cd\":\"11080\"},{\"y_coor\":\"1945217\",\"full_addr\":\"서울특별시 송파구\",\"x_coor\":\"965995\",\"addr_name\":\"송파구\",\"cd\":\"11240\"},{\"y_coor\":\"1947596\",\"full_addr\":\"서울특별시 양천구\",\"x_coor\":\"942501\",\"addr_name\":\"양천구\",\"cd\":\"11150\"},{\"y_coor\":\"1947168\",\"full_addr\":\"서울특별시 영등포구\",\"x_coor\":\"947876\",\"addr_name\":\"영등포구\",\"cd\":\"11190\"},{\"y_coor\":\"1948126\",\"full_addr\":\"서울특별시 용산구\",\"x_coor\":\"954044\",\"addr_name\":\"용산구\",\"cd\":\"11030\"},{\"y_coor\":\"1957902\",\"full_addr\":\"서울특별시 은평구\",\"x_coor\":\"949435\",\"addr_name\":\"은평구\",\"cd\":\"11120\"},{\"y_coor\":\"1955185\",\"full_addr\":\"서울특별시 종로구\",\"x_coor\":\"953858\",\"addr_name\":\"종로구\",\"cd\":\"11010\"},{\"y_coor\":\"1951313\",\"full_addr\":\"서울특별시 중구\",\"x_coor\":\"955475\",\"addr_name\":\"중구\",\"cd\":\"11020\"},{\"y_coor\":\"1955450\",\"full_addr\":\"서울특별시 중랑구\",\"x_coor\":\"964062\",\"addr_name\":\"중랑구\",\"cd\":\"11070\"}],\"errMsg\":\"Success\",\"errCd\":0,\"trId\":\"lvxG_API_0701_1565164844940\"}"
      ]
     },
     "execution_count": 29,
     "metadata": {},
     "output_type": "execute_result"
    }
   ],
   "source": [
    "html = urlopen('https://sgisapi.kostat.go.kr/OpenAPI3/addr/stage.json?accessToken=bf4b9728-1707-4562-8214-81fb2ebf3d85&cd=11')\n",
    "soup_tmp = BeautifulSoup(html, \"html.parser\")\n",
    "soup_tmp"
   ]
  },
  {
   "cell_type": "code",
   "execution_count": 30,
   "metadata": {},
   "outputs": [
    {
     "data": {
      "text/plain": [
       "{\"id\":\"API_0701\",\"result\":[{\"y_coor\":\"1683579\",\"full_addr\":\"부산광역시 강서구\",\"x_coor\":\"1126269\",\"addr_name\":\"강서구\",\"cd\":\"21120\"},{\"y_coor\":\"1697100\",\"full_addr\":\"부산광역시 금정구\",\"x_coor\":\"1144771\",\"addr_name\":\"금정구\",\"cd\":\"21110\"},{\"y_coor\":\"1701586\",\"full_addr\":\"부산광역시 기장군\",\"x_coor\":\"1154663\",\"addr_name\":\"기장군\",\"cd\":\"21310\"},{\"y_coor\":\"1682717\",\"full_addr\":\"부산광역시 남구\",\"x_coor\":\"1145045\",\"addr_name\":\"남구\",\"cd\":\"21070\"},{\"y_coor\":\"1682549\",\"full_addr\":\"부산광역시 동구\",\"x_coor\":\"1140751\",\"addr_name\":\"동구\",\"cd\":\"21030\"},{\"y_coor\":\"1691233\",\"full_addr\":\"부산광역시 동래구\",\"x_coor\":\"1143740\",\"addr_name\":\"동래구\",\"cd\":\"21060\"},{\"y_coor\":\"1686647\",\"full_addr\":\"부산광역시 부산진구\",\"x_coor\":\"1140531\",\"addr_name\":\"부산진구\",\"cd\":\"21050\"},{\"y_coor\":\"1693720\",\"full_addr\":\"부산광역시 북구\",\"x_coor\":\"1138630\",\"addr_name\":\"북구\",\"cd\":\"21080\"},{\"y_coor\":\"1685766\",\"full_addr\":\"부산광역시 사상구\",\"x_coor\":\"1135397\",\"addr_name\":\"사상구\",\"cd\":\"21150\"},{\"y_coor\":\"1678777\",\"full_addr\":\"부산광역시 사하구\",\"x_coor\":\"1134459\",\"addr_name\":\"사하구\",\"cd\":\"21100\"},{\"y_coor\":\"1676689\",\"full_addr\":\"부산광역시 서구\",\"x_coor\":\"1138120\",\"addr_name\":\"서구\",\"cd\":\"21020\"},{\"y_coor\":\"1686292\",\"full_addr\":\"부산광역시 수영구\",\"x_coor\":\"1146757\",\"addr_name\":\"수영구\",\"cd\":\"21140\"},{\"y_coor\":\"1688599\",\"full_addr\":\"부산광역시 연제구\",\"x_coor\":\"1144137\",\"addr_name\":\"연제구\",\"cd\":\"21130\"},{\"y_coor\":\"1677166\",\"full_addr\":\"부산광역시 영도구\",\"x_coor\":\"1142434\",\"addr_name\":\"영도구\",\"cd\":\"21040\"},{\"y_coor\":\"1679989\",\"full_addr\":\"부산광역시 중구\",\"x_coor\":\"1139637\",\"addr_name\":\"중구\",\"cd\":\"21010\"},{\"y_coor\":\"1689959\",\"full_addr\":\"부산광역시 해운대구\",\"x_coor\":\"1150545\",\"addr_name\":\"해운대구\",\"cd\":\"21090\"}],\"errMsg\":\"Success\",\"errCd\":0,\"trId\":\"LZD9_API_0701_1565164902281\"}"
      ]
     },
     "execution_count": 30,
     "metadata": {},
     "output_type": "execute_result"
    }
   ],
   "source": [
    "html = urlopen('https://sgisapi.kostat.go.kr/OpenAPI3/addr/stage.json?accessToken=bf4b9728-1707-4562-8214-81fb2ebf3d85&cd=21')\n",
    "soup_tmp = BeautifulSoup(html, \"html.parser\")\n",
    "soup_tmp"
   ]
  },
  {
   "cell_type": "code",
   "execution_count": 42,
   "metadata": {},
   "outputs": [],
   "source": [
    "addr = []\n",
    "y_coor = []\n",
    "x_coor = []\n",
    "cd = []\n",
    "soup_tmp = []\n",
    "\n",
    "for n in range(30, 11, 40):\n",
    "    url = 'https://sgisapi.kostat.go.kr/OpenAPI3/addr/stage.json?accessToken=bf4b9728-1707-4562-8214-81fb2ebf3d85&cd='\n",
    "    html = urlopen(url + n)\n",
    "    soup_tmp.append(BeautifulSoup(html, \"html.parser\"))\n",
    "\n",
    "    "
   ]
  },
  {
   "cell_type": "code",
   "execution_count": 44,
   "metadata": {},
   "outputs": [
    {
     "ename": "NameError",
     "evalue": "name 'url' is not defined",
     "output_type": "error",
     "traceback": [
      "\u001b[1;31m---------------------------------------------------------------------------\u001b[0m",
      "\u001b[1;31mNameError\u001b[0m                                 Traceback (most recent call last)",
      "\u001b[1;32m<ipython-input-44-5446fb31b66c>\u001b[0m in \u001b[0;36m<module>\u001b[1;34m\u001b[0m\n\u001b[1;32m----> 1\u001b[1;33m \u001b[0murl\u001b[0m\u001b[1;33m\u001b[0m\u001b[1;33m\u001b[0m\u001b[0m\n\u001b[0m",
      "\u001b[1;31mNameError\u001b[0m: name 'url' is not defined"
     ]
    }
   ],
   "source": [
    "url"
   ]
  },
  {
   "cell_type": "code",
   "execution_count": null,
   "metadata": {},
   "outputs": [],
   "source": []
  },
  {
   "cell_type": "code",
   "execution_count": null,
   "metadata": {},
   "outputs": [],
   "source": []
  },
  {
   "cell_type": "code",
   "execution_count": null,
   "metadata": {},
   "outputs": [],
   "source": []
  },
  {
   "cell_type": "code",
   "execution_count": null,
   "metadata": {},
   "outputs": [],
   "source": []
  },
  {
   "cell_type": "code",
   "execution_count": null,
   "metadata": {},
   "outputs": [],
   "source": []
  },
  {
   "cell_type": "code",
   "execution_count": null,
   "metadata": {},
   "outputs": [],
   "source": []
  },
  {
   "cell_type": "code",
   "execution_count": null,
   "metadata": {},
   "outputs": [],
   "source": []
  },
  {
   "cell_type": "code",
   "execution_count": null,
   "metadata": {},
   "outputs": [],
   "source": []
  },
  {
   "cell_type": "code",
   "execution_count": null,
   "metadata": {},
   "outputs": [],
   "source": []
  },
  {
   "cell_type": "code",
   "execution_count": null,
   "metadata": {},
   "outputs": [],
   "source": []
  },
  {
   "cell_type": "code",
   "execution_count": null,
   "metadata": {},
   "outputs": [],
   "source": []
  },
  {
   "cell_type": "code",
   "execution_count": null,
   "metadata": {},
   "outputs": [],
   "source": []
  },
  {
   "cell_type": "code",
   "execution_count": null,
   "metadata": {},
   "outputs": [],
   "source": []
  },
  {
   "cell_type": "code",
   "execution_count": null,
   "metadata": {},
   "outputs": [],
   "source": []
  },
  {
   "cell_type": "code",
   "execution_count": null,
   "metadata": {},
   "outputs": [],
   "source": []
  },
  {
   "cell_type": "code",
   "execution_count": null,
   "metadata": {},
   "outputs": [],
   "source": []
  },
  {
   "cell_type": "code",
   "execution_count": null,
   "metadata": {},
   "outputs": [],
   "source": []
  },
  {
   "cell_type": "code",
   "execution_count": null,
   "metadata": {},
   "outputs": [],
   "source": []
  },
  {
   "cell_type": "code",
   "execution_count": null,
   "metadata": {},
   "outputs": [],
   "source": []
  },
  {
   "cell_type": "code",
   "execution_count": null,
   "metadata": {},
   "outputs": [],
   "source": []
  },
  {
   "cell_type": "code",
   "execution_count": null,
   "metadata": {},
   "outputs": [],
   "source": []
  }
 ],
 "metadata": {
  "kernelspec": {
   "display_name": "Python 3",
   "language": "python",
   "name": "python3"
  },
  "language_info": {
   "codemirror_mode": {
    "name": "ipython",
    "version": 3
   },
   "file_extension": ".py",
   "mimetype": "text/x-python",
   "name": "python",
   "nbconvert_exporter": "python",
   "pygments_lexer": "ipython3",
   "version": "3.6.8"
  }
 },
 "nbformat": 4,
 "nbformat_minor": 2
}
